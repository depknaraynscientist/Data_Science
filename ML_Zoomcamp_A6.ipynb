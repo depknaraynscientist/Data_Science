{
  "nbformat": 4,
  "nbformat_minor": 0,
  "metadata": {
    "kernelspec": {
      "display_name": "Python 3",
      "language": "python",
      "name": "python3"
    },
    "language_info": {
      "codemirror_mode": {
        "name": "ipython",
        "version": 3
      },
      "file_extension": ".py",
      "mimetype": "text/x-python",
      "name": "python",
      "nbconvert_exporter": "python",
      "pygments_lexer": "ipython3",
      "version": "3.7.3"
    },
    "colab": {
      "name": "ML_Zoomcamp_A6.ipynb",
      "provenance": [],
      "collapsed_sections": [],
      "include_colab_link": true
    }
  },
  "cells": [
    {
      "cell_type": "markdown",
      "metadata": {
        "id": "view-in-github",
        "colab_type": "text"
      },
      "source": [
        "<a href=\"https://colab.research.google.com/github/depknaraynscientist/Data_Science/blob/main/ML_Zoomcamp_A6.ipynb\" target=\"_parent\"><img src=\"https://colab.research.google.com/assets/colab-badge.svg\" alt=\"Open In Colab\"/></a>"
      ]
    },
    {
      "cell_type": "markdown",
      "metadata": {
        "id": "jYuON5NWh1nL"
      },
      "source": [
        "## 6.10 Homework\n",
        "\n",
        "The goal of this homework is to create a tree-based regression model for prediction apartment prices (column `'price'`).\n",
        "\n",
        "In this homework we'll again use the New York City Airbnb Open Data dataset - the same one we used in homework 2 and 3.\n",
        "\n",
        "You can take it from [Kaggle](https://www.kaggle.com/dgomonov/new-york-city-airbnb-open-data?select=AB_NYC_2019.csv)\n",
        "or download from [here](https://raw.githubusercontent.com/alexeygrigorev/datasets/master/AB_NYC_2019.csv)\n",
        "if you don't want to sign up to Kaggle.\n",
        "\n",
        "Let's load the data:"
      ]
    },
    {
      "cell_type": "code",
      "metadata": {
        "id": "P3V1ed4_h1nP"
      },
      "source": [
        "import pandas as pd\n",
        "import numpy as np\n",
        "\n",
        "import matplotlib.pyplot as plt\n",
        "import seaborn as sns\n",
        "\n",
        "%matplotlib inline"
      ],
      "execution_count": 1,
      "outputs": []
    },
    {
      "cell_type": "code",
      "metadata": {
        "colab": {
          "base_uri": "https://localhost:8080/"
        },
        "id": "PkwM6EL2iBGz",
        "outputId": "74a2eadc-37ec-455b-eb15-63fb4dfe1e04"
      },
      "source": [
        "!wget \"https://raw.githubusercontent.com/alexeygrigorev/datasets/master/AB_NYC_2019.csv\""
      ],
      "execution_count": 2,
      "outputs": [
        {
          "output_type": "stream",
          "name": "stdout",
          "text": [
            "--2021-10-20 12:18:03--  https://raw.githubusercontent.com/alexeygrigorev/datasets/master/AB_NYC_2019.csv\n",
            "Resolving raw.githubusercontent.com (raw.githubusercontent.com)... 185.199.108.133, 185.199.109.133, 185.199.110.133, ...\n",
            "Connecting to raw.githubusercontent.com (raw.githubusercontent.com)|185.199.108.133|:443... connected.\n",
            "HTTP request sent, awaiting response... 200 OK\n",
            "Length: 7077973 (6.8M) [text/plain]\n",
            "Saving to: ‘AB_NYC_2019.csv’\n",
            "\n",
            "AB_NYC_2019.csv     100%[===================>]   6.75M  --.-KB/s    in 0.09s   \n",
            "\n",
            "2021-10-20 12:18:04 (74.3 MB/s) - ‘AB_NYC_2019.csv’ saved [7077973/7077973]\n",
            "\n"
          ]
        }
      ]
    },
    {
      "cell_type": "code",
      "metadata": {
        "id": "-BuTVrFFh1nQ"
      },
      "source": [
        "columns = [\n",
        "    'neighbourhood_group', 'room_type', 'latitude', 'longitude',\n",
        "    'minimum_nights', 'number_of_reviews','reviews_per_month',\n",
        "    'calculated_host_listings_count', 'availability_365',\n",
        "    'price'\n",
        "]\n",
        "df = pd.read_csv('AB_NYC_2019.csv', usecols=columns) #gets only the required columns.\n",
        "df.reviews_per_month = df.reviews_per_month.fillna(0)"
      ],
      "execution_count": 3,
      "outputs": []
    },
    {
      "cell_type": "markdown",
      "metadata": {
        "id": "jCdXYw4Jh1nQ"
      },
      "source": [
        "* Apply the log tranform to `price`\n",
        "* Do train/validation/test split with 60%/20%/20% distribution. \n",
        "* Use the `train_test_split` function and set the `random_state` parameter to 1"
      ]
    },
    {
      "cell_type": "code",
      "metadata": {
        "id": "wzHxcH8Bh1nR"
      },
      "source": [
        "#df['price'].describe()\n",
        "#df['price'] = np.log(df['price']) #issue in taking log. So lets take log1p\n",
        "df['price'] = np.log1p(df['price'])"
      ],
      "execution_count": 4,
      "outputs": []
    },
    {
      "cell_type": "code",
      "metadata": {
        "colab": {
          "base_uri": "https://localhost:8080/"
        },
        "id": "_dmGnzF7M387",
        "outputId": "48b7cfa1-9551-4fa9-8233-dc495a6491f6"
      },
      "source": [
        "df['price'].describe()"
      ],
      "execution_count": 5,
      "outputs": [
        {
          "output_type": "execute_result",
          "data": {
            "text/plain": [
              "count    48895.000000\n",
              "mean         4.736885\n",
              "std          0.695344\n",
              "min          0.000000\n",
              "25%          4.248495\n",
              "50%          4.672829\n",
              "75%          5.170484\n",
              "max          9.210440\n",
              "Name: price, dtype: float64"
            ]
          },
          "metadata": {},
          "execution_count": 5
        }
      ]
    },
    {
      "cell_type": "code",
      "metadata": {
        "colab": {
          "base_uri": "https://localhost:8080/"
        },
        "id": "2K6glJtZ6FET",
        "outputId": "e8faaa3a-2a5f-4edd-cdeb-0802239a4923"
      },
      "source": [
        "df['price'].isnull().sum()"
      ],
      "execution_count": 6,
      "outputs": [
        {
          "output_type": "execute_result",
          "data": {
            "text/plain": [
              "0"
            ]
          },
          "metadata": {},
          "execution_count": 6
        }
      ]
    },
    {
      "cell_type": "code",
      "metadata": {
        "id": "PczUxYzvj8RU"
      },
      "source": [
        "from IPython.display import display"
      ],
      "execution_count": 7,
      "outputs": []
    },
    {
      "cell_type": "code",
      "metadata": {
        "colab": {
          "base_uri": "https://localhost:8080/",
          "height": 527
        },
        "id": "wc9FqGgFja-j",
        "outputId": "4d2f492d-ada2-46b6-d4a4-98415c385c8a"
      },
      "source": [
        "#A bit of EDA\n",
        "display(df.info())\n",
        "print(\"-------------\")\n",
        "#no missing values cos we filled the 1 column with zeros\n",
        "#48895 rows\n",
        "for i in df.columns:\n",
        "  display(df[i].nunique())\n",
        "#categorical : neighbourhood_group, room_type\n",
        "categorical = ['neighbourhood_group', 'room_type']\n",
        "numerical = ['latitude', 'longitude', 'minimum_nights', 'number_of_reviews', 'reviews_per_month', 'calculated_host_listings_count', 'availability_365']"
      ],
      "execution_count": 8,
      "outputs": [
        {
          "output_type": "stream",
          "name": "stdout",
          "text": [
            "<class 'pandas.core.frame.DataFrame'>\n",
            "RangeIndex: 48895 entries, 0 to 48894\n",
            "Data columns (total 10 columns):\n",
            " #   Column                          Non-Null Count  Dtype  \n",
            "---  ------                          --------------  -----  \n",
            " 0   neighbourhood_group             48895 non-null  object \n",
            " 1   latitude                        48895 non-null  float64\n",
            " 2   longitude                       48895 non-null  float64\n",
            " 3   room_type                       48895 non-null  object \n",
            " 4   price                           48895 non-null  float64\n",
            " 5   minimum_nights                  48895 non-null  int64  \n",
            " 6   number_of_reviews               48895 non-null  int64  \n",
            " 7   reviews_per_month               48895 non-null  float64\n",
            " 8   calculated_host_listings_count  48895 non-null  int64  \n",
            " 9   availability_365                48895 non-null  int64  \n",
            "dtypes: float64(4), int64(4), object(2)\n",
            "memory usage: 3.7+ MB\n"
          ]
        },
        {
          "output_type": "display_data",
          "data": {
            "text/plain": [
              "None"
            ]
          },
          "metadata": {}
        },
        {
          "output_type": "stream",
          "name": "stdout",
          "text": [
            "-------------\n"
          ]
        },
        {
          "output_type": "display_data",
          "data": {
            "text/plain": [
              "5"
            ]
          },
          "metadata": {}
        },
        {
          "output_type": "display_data",
          "data": {
            "text/plain": [
              "19048"
            ]
          },
          "metadata": {}
        },
        {
          "output_type": "display_data",
          "data": {
            "text/plain": [
              "14718"
            ]
          },
          "metadata": {}
        },
        {
          "output_type": "display_data",
          "data": {
            "text/plain": [
              "3"
            ]
          },
          "metadata": {}
        },
        {
          "output_type": "display_data",
          "data": {
            "text/plain": [
              "674"
            ]
          },
          "metadata": {}
        },
        {
          "output_type": "display_data",
          "data": {
            "text/plain": [
              "109"
            ]
          },
          "metadata": {}
        },
        {
          "output_type": "display_data",
          "data": {
            "text/plain": [
              "394"
            ]
          },
          "metadata": {}
        },
        {
          "output_type": "display_data",
          "data": {
            "text/plain": [
              "938"
            ]
          },
          "metadata": {}
        },
        {
          "output_type": "display_data",
          "data": {
            "text/plain": [
              "47"
            ]
          },
          "metadata": {}
        },
        {
          "output_type": "display_data",
          "data": {
            "text/plain": [
              "366"
            ]
          },
          "metadata": {}
        }
      ]
    },
    {
      "cell_type": "code",
      "metadata": {
        "colab": {
          "base_uri": "https://localhost:8080/"
        },
        "id": "bK-2KQ1llJ9a",
        "outputId": "8cbc29ff-6b82-462e-b028-703e22732ba1"
      },
      "source": [
        "len(numerical) #has all except 2 categorical and 1 o/p variable.\n"
      ],
      "execution_count": 9,
      "outputs": [
        {
          "output_type": "execute_result",
          "data": {
            "text/plain": [
              "7"
            ]
          },
          "metadata": {},
          "execution_count": 9
        }
      ]
    },
    {
      "cell_type": "code",
      "metadata": {
        "colab": {
          "base_uri": "https://localhost:8080/"
        },
        "id": "B4ACap3Jk29s",
        "outputId": "03590b9e-fb4d-46d3-9e22-d21f915b9863"
      },
      "source": [
        "for i in categorical:\n",
        "  print(df[i].unique())"
      ],
      "execution_count": 10,
      "outputs": [
        {
          "output_type": "stream",
          "name": "stdout",
          "text": [
            "['Brooklyn' 'Manhattan' 'Queens' 'Staten Island' 'Bronx']\n",
            "['Private room' 'Entire home/apt' 'Shared room']\n"
          ]
        }
      ]
    },
    {
      "cell_type": "code",
      "metadata": {
        "id": "QzivNirrjK2D"
      },
      "source": [
        "from sklearn.model_selection import train_test_split"
      ],
      "execution_count": 11,
      "outputs": []
    },
    {
      "cell_type": "code",
      "metadata": {
        "id": "A2bD7sfBirf0"
      },
      "source": [
        "X_1, X_test, y_1, y_test = train_test_split(df[numerical + categorical], df['price'], test_size = 0.2, random_state = 1)\n",
        "X_train, X_val, y_train, y_val = train_test_split(X_1, y_1, test_size=0.25, random_state=1)"
      ],
      "execution_count": 12,
      "outputs": []
    },
    {
      "cell_type": "code",
      "metadata": {
        "colab": {
          "base_uri": "https://localhost:8080/"
        },
        "id": "ZG9_Q4xOpPDe",
        "outputId": "b178e639-c643-4ec5-f58c-17d2c6a04494"
      },
      "source": [
        "print(X_train.shape, X_val.shape, X_test.shape)\n",
        "print(y_train.shape, y_val.shape, y_test.shape)"
      ],
      "execution_count": 13,
      "outputs": [
        {
          "output_type": "stream",
          "name": "stdout",
          "text": [
            "(29337, 9) (9779, 9) (9779, 9)\n",
            "(29337,) (9779,) (9779,)\n"
          ]
        }
      ]
    },
    {
      "cell_type": "code",
      "metadata": {
        "colab": {
          "base_uri": "https://localhost:8080/",
          "height": 610
        },
        "id": "rybyYZQBR3PN",
        "outputId": "86da5e4d-bf35-4475-ed41-d2fafe8c181d"
      },
      "source": [
        "#Important : we need to reset the indexes else it will throw an error later.\n",
        "#Lets take a look at the X-train, X_val, etc.\n",
        "X_train #all are jumbled, so lets reset the indexes."
      ],
      "execution_count": 14,
      "outputs": [
        {
          "output_type": "execute_result",
          "data": {
            "text/html": [
              "<div>\n",
              "<style scoped>\n",
              "    .dataframe tbody tr th:only-of-type {\n",
              "        vertical-align: middle;\n",
              "    }\n",
              "\n",
              "    .dataframe tbody tr th {\n",
              "        vertical-align: top;\n",
              "    }\n",
              "\n",
              "    .dataframe thead th {\n",
              "        text-align: right;\n",
              "    }\n",
              "</style>\n",
              "<table border=\"1\" class=\"dataframe\">\n",
              "  <thead>\n",
              "    <tr style=\"text-align: right;\">\n",
              "      <th></th>\n",
              "      <th>latitude</th>\n",
              "      <th>longitude</th>\n",
              "      <th>minimum_nights</th>\n",
              "      <th>number_of_reviews</th>\n",
              "      <th>reviews_per_month</th>\n",
              "      <th>calculated_host_listings_count</th>\n",
              "      <th>availability_365</th>\n",
              "      <th>neighbourhood_group</th>\n",
              "      <th>room_type</th>\n",
              "    </tr>\n",
              "  </thead>\n",
              "  <tbody>\n",
              "    <tr>\n",
              "      <th>385</th>\n",
              "      <td>40.76434</td>\n",
              "      <td>-73.92132</td>\n",
              "      <td>4</td>\n",
              "      <td>30</td>\n",
              "      <td>0.32</td>\n",
              "      <td>1</td>\n",
              "      <td>363</td>\n",
              "      <td>Queens</td>\n",
              "      <td>Entire home/apt</td>\n",
              "    </tr>\n",
              "    <tr>\n",
              "      <th>33147</th>\n",
              "      <td>40.73442</td>\n",
              "      <td>-73.95854</td>\n",
              "      <td>5</td>\n",
              "      <td>2</td>\n",
              "      <td>0.16</td>\n",
              "      <td>1</td>\n",
              "      <td>0</td>\n",
              "      <td>Brooklyn</td>\n",
              "      <td>Private room</td>\n",
              "    </tr>\n",
              "    <tr>\n",
              "      <th>33881</th>\n",
              "      <td>40.66359</td>\n",
              "      <td>-73.99487</td>\n",
              "      <td>1</td>\n",
              "      <td>33</td>\n",
              "      <td>2.75</td>\n",
              "      <td>5</td>\n",
              "      <td>113</td>\n",
              "      <td>Brooklyn</td>\n",
              "      <td>Entire home/apt</td>\n",
              "    </tr>\n",
              "    <tr>\n",
              "      <th>37208</th>\n",
              "      <td>40.63766</td>\n",
              "      <td>-74.02626</td>\n",
              "      <td>3</td>\n",
              "      <td>1</td>\n",
              "      <td>0.12</td>\n",
              "      <td>2</td>\n",
              "      <td>362</td>\n",
              "      <td>Brooklyn</td>\n",
              "      <td>Private room</td>\n",
              "    </tr>\n",
              "    <tr>\n",
              "      <th>7485</th>\n",
              "      <td>40.65118</td>\n",
              "      <td>-74.00842</td>\n",
              "      <td>2</td>\n",
              "      <td>0</td>\n",
              "      <td>0.00</td>\n",
              "      <td>2</td>\n",
              "      <td>365</td>\n",
              "      <td>Brooklyn</td>\n",
              "      <td>Private room</td>\n",
              "    </tr>\n",
              "    <tr>\n",
              "      <th>...</th>\n",
              "      <td>...</td>\n",
              "      <td>...</td>\n",
              "      <td>...</td>\n",
              "      <td>...</td>\n",
              "      <td>...</td>\n",
              "      <td>...</td>\n",
              "      <td>...</td>\n",
              "      <td>...</td>\n",
              "      <td>...</td>\n",
              "    </tr>\n",
              "    <tr>\n",
              "      <th>2738</th>\n",
              "      <td>40.69332</td>\n",
              "      <td>-73.96543</td>\n",
              "      <td>12</td>\n",
              "      <td>11</td>\n",
              "      <td>0.15</td>\n",
              "      <td>1</td>\n",
              "      <td>15</td>\n",
              "      <td>Brooklyn</td>\n",
              "      <td>Entire home/apt</td>\n",
              "    </tr>\n",
              "    <tr>\n",
              "      <th>25619</th>\n",
              "      <td>40.71856</td>\n",
              "      <td>-73.98753</td>\n",
              "      <td>4</td>\n",
              "      <td>0</td>\n",
              "      <td>0.00</td>\n",
              "      <td>1</td>\n",
              "      <td>0</td>\n",
              "      <td>Manhattan</td>\n",
              "      <td>Private room</td>\n",
              "    </tr>\n",
              "    <tr>\n",
              "      <th>40278</th>\n",
              "      <td>40.69034</td>\n",
              "      <td>-73.84611</td>\n",
              "      <td>3</td>\n",
              "      <td>0</td>\n",
              "      <td>0.00</td>\n",
              "      <td>2</td>\n",
              "      <td>178</td>\n",
              "      <td>Queens</td>\n",
              "      <td>Private room</td>\n",
              "    </tr>\n",
              "    <tr>\n",
              "      <th>17605</th>\n",
              "      <td>40.76324</td>\n",
              "      <td>-73.98459</td>\n",
              "      <td>10</td>\n",
              "      <td>1</td>\n",
              "      <td>0.03</td>\n",
              "      <td>1</td>\n",
              "      <td>0</td>\n",
              "      <td>Manhattan</td>\n",
              "      <td>Entire home/apt</td>\n",
              "    </tr>\n",
              "    <tr>\n",
              "      <th>22406</th>\n",
              "      <td>40.74563</td>\n",
              "      <td>-73.97590</td>\n",
              "      <td>30</td>\n",
              "      <td>1</td>\n",
              "      <td>0.07</td>\n",
              "      <td>23</td>\n",
              "      <td>362</td>\n",
              "      <td>Manhattan</td>\n",
              "      <td>Entire home/apt</td>\n",
              "    </tr>\n",
              "  </tbody>\n",
              "</table>\n",
              "<p>29337 rows × 9 columns</p>\n",
              "</div>"
            ],
            "text/plain": [
              "       latitude  longitude  ...  neighbourhood_group        room_type\n",
              "385    40.76434  -73.92132  ...               Queens  Entire home/apt\n",
              "33147  40.73442  -73.95854  ...             Brooklyn     Private room\n",
              "33881  40.66359  -73.99487  ...             Brooklyn  Entire home/apt\n",
              "37208  40.63766  -74.02626  ...             Brooklyn     Private room\n",
              "7485   40.65118  -74.00842  ...             Brooklyn     Private room\n",
              "...         ...        ...  ...                  ...              ...\n",
              "2738   40.69332  -73.96543  ...             Brooklyn  Entire home/apt\n",
              "25619  40.71856  -73.98753  ...            Manhattan     Private room\n",
              "40278  40.69034  -73.84611  ...               Queens     Private room\n",
              "17605  40.76324  -73.98459  ...            Manhattan  Entire home/apt\n",
              "22406  40.74563  -73.97590  ...            Manhattan  Entire home/apt\n",
              "\n",
              "[29337 rows x 9 columns]"
            ]
          },
          "metadata": {},
          "execution_count": 14
        }
      ]
    },
    {
      "cell_type": "code",
      "metadata": {
        "id": "zm0kbp0wSOAP"
      },
      "source": [
        "X_train.reset_index(drop=True, inplace=True)\n",
        "X_val.reset_index(drop=True, inplace=True)\n",
        "X_test.reset_index(drop=True, inplace=True)"
      ],
      "execution_count": 15,
      "outputs": []
    },
    {
      "cell_type": "code",
      "metadata": {
        "id": "m4Ioyt-YSw6A"
      },
      "source": [
        "#Dont forget to do for y as well.\n",
        "y_train.reset_index(drop=True, inplace=True)\n",
        "y_val.reset_index(drop=True, inplace=True)\n",
        "y_test.reset_index(drop=True, inplace=True)"
      ],
      "execution_count": 16,
      "outputs": []
    },
    {
      "cell_type": "code",
      "metadata": {
        "colab": {
          "base_uri": "https://localhost:8080/",
          "height": 610
        },
        "id": "sqVeA6e8SZsc",
        "outputId": "37036de7-08f7-4e6d-f042-a56e5a808f8f"
      },
      "source": [
        "X_train\n",
        "X_val\n",
        "X_test #now indices are not jumbled."
      ],
      "execution_count": 17,
      "outputs": [
        {
          "output_type": "execute_result",
          "data": {
            "text/html": [
              "<div>\n",
              "<style scoped>\n",
              "    .dataframe tbody tr th:only-of-type {\n",
              "        vertical-align: middle;\n",
              "    }\n",
              "\n",
              "    .dataframe tbody tr th {\n",
              "        vertical-align: top;\n",
              "    }\n",
              "\n",
              "    .dataframe thead th {\n",
              "        text-align: right;\n",
              "    }\n",
              "</style>\n",
              "<table border=\"1\" class=\"dataframe\">\n",
              "  <thead>\n",
              "    <tr style=\"text-align: right;\">\n",
              "      <th></th>\n",
              "      <th>latitude</th>\n",
              "      <th>longitude</th>\n",
              "      <th>minimum_nights</th>\n",
              "      <th>number_of_reviews</th>\n",
              "      <th>reviews_per_month</th>\n",
              "      <th>calculated_host_listings_count</th>\n",
              "      <th>availability_365</th>\n",
              "      <th>neighbourhood_group</th>\n",
              "      <th>room_type</th>\n",
              "    </tr>\n",
              "  </thead>\n",
              "  <tbody>\n",
              "    <tr>\n",
              "      <th>0</th>\n",
              "      <td>40.74596</td>\n",
              "      <td>-73.87762</td>\n",
              "      <td>2</td>\n",
              "      <td>0</td>\n",
              "      <td>0.00</td>\n",
              "      <td>2</td>\n",
              "      <td>66</td>\n",
              "      <td>Queens</td>\n",
              "      <td>Private room</td>\n",
              "    </tr>\n",
              "    <tr>\n",
              "      <th>1</th>\n",
              "      <td>40.75883</td>\n",
              "      <td>-73.92160</td>\n",
              "      <td>2</td>\n",
              "      <td>0</td>\n",
              "      <td>0.00</td>\n",
              "      <td>1</td>\n",
              "      <td>282</td>\n",
              "      <td>Queens</td>\n",
              "      <td>Entire home/apt</td>\n",
              "    </tr>\n",
              "    <tr>\n",
              "      <th>2</th>\n",
              "      <td>40.69670</td>\n",
              "      <td>-73.97477</td>\n",
              "      <td>1</td>\n",
              "      <td>53</td>\n",
              "      <td>2.15</td>\n",
              "      <td>1</td>\n",
              "      <td>0</td>\n",
              "      <td>Brooklyn</td>\n",
              "      <td>Private room</td>\n",
              "    </tr>\n",
              "    <tr>\n",
              "      <th>3</th>\n",
              "      <td>40.72435</td>\n",
              "      <td>-73.95154</td>\n",
              "      <td>1</td>\n",
              "      <td>119</td>\n",
              "      <td>2.57</td>\n",
              "      <td>2</td>\n",
              "      <td>1</td>\n",
              "      <td>Brooklyn</td>\n",
              "      <td>Private room</td>\n",
              "    </tr>\n",
              "    <tr>\n",
              "      <th>4</th>\n",
              "      <td>40.72754</td>\n",
              "      <td>-73.98555</td>\n",
              "      <td>3</td>\n",
              "      <td>12</td>\n",
              "      <td>0.19</td>\n",
              "      <td>2</td>\n",
              "      <td>0</td>\n",
              "      <td>Manhattan</td>\n",
              "      <td>Entire home/apt</td>\n",
              "    </tr>\n",
              "    <tr>\n",
              "      <th>...</th>\n",
              "      <td>...</td>\n",
              "      <td>...</td>\n",
              "      <td>...</td>\n",
              "      <td>...</td>\n",
              "      <td>...</td>\n",
              "      <td>...</td>\n",
              "      <td>...</td>\n",
              "      <td>...</td>\n",
              "      <td>...</td>\n",
              "    </tr>\n",
              "    <tr>\n",
              "      <th>9774</th>\n",
              "      <td>40.85062</td>\n",
              "      <td>-73.90251</td>\n",
              "      <td>14</td>\n",
              "      <td>5</td>\n",
              "      <td>0.13</td>\n",
              "      <td>1</td>\n",
              "      <td>322</td>\n",
              "      <td>Bronx</td>\n",
              "      <td>Private room</td>\n",
              "    </tr>\n",
              "    <tr>\n",
              "      <th>9775</th>\n",
              "      <td>40.70450</td>\n",
              "      <td>-73.94357</td>\n",
              "      <td>6</td>\n",
              "      <td>5</td>\n",
              "      <td>2.17</td>\n",
              "      <td>1</td>\n",
              "      <td>40</td>\n",
              "      <td>Brooklyn</td>\n",
              "      <td>Entire home/apt</td>\n",
              "    </tr>\n",
              "    <tr>\n",
              "      <th>9776</th>\n",
              "      <td>40.65100</td>\n",
              "      <td>-73.94886</td>\n",
              "      <td>2</td>\n",
              "      <td>263</td>\n",
              "      <td>2.69</td>\n",
              "      <td>2</td>\n",
              "      <td>136</td>\n",
              "      <td>Brooklyn</td>\n",
              "      <td>Private room</td>\n",
              "    </tr>\n",
              "    <tr>\n",
              "      <th>9777</th>\n",
              "      <td>40.68040</td>\n",
              "      <td>-73.93183</td>\n",
              "      <td>7</td>\n",
              "      <td>53</td>\n",
              "      <td>1.12</td>\n",
              "      <td>2</td>\n",
              "      <td>77</td>\n",
              "      <td>Brooklyn</td>\n",
              "      <td>Entire home/apt</td>\n",
              "    </tr>\n",
              "    <tr>\n",
              "      <th>9778</th>\n",
              "      <td>40.74301</td>\n",
              "      <td>-73.89458</td>\n",
              "      <td>30</td>\n",
              "      <td>2</td>\n",
              "      <td>0.50</td>\n",
              "      <td>103</td>\n",
              "      <td>269</td>\n",
              "      <td>Queens</td>\n",
              "      <td>Private room</td>\n",
              "    </tr>\n",
              "  </tbody>\n",
              "</table>\n",
              "<p>9779 rows × 9 columns</p>\n",
              "</div>"
            ],
            "text/plain": [
              "      latitude  longitude  ...  neighbourhood_group        room_type\n",
              "0     40.74596  -73.87762  ...               Queens     Private room\n",
              "1     40.75883  -73.92160  ...               Queens  Entire home/apt\n",
              "2     40.69670  -73.97477  ...             Brooklyn     Private room\n",
              "3     40.72435  -73.95154  ...             Brooklyn     Private room\n",
              "4     40.72754  -73.98555  ...            Manhattan  Entire home/apt\n",
              "...        ...        ...  ...                  ...              ...\n",
              "9774  40.85062  -73.90251  ...                Bronx     Private room\n",
              "9775  40.70450  -73.94357  ...             Brooklyn  Entire home/apt\n",
              "9776  40.65100  -73.94886  ...             Brooklyn     Private room\n",
              "9777  40.68040  -73.93183  ...             Brooklyn  Entire home/apt\n",
              "9778  40.74301  -73.89458  ...               Queens     Private room\n",
              "\n",
              "[9779 rows x 9 columns]"
            ]
          },
          "metadata": {},
          "execution_count": 17
        }
      ]
    },
    {
      "cell_type": "code",
      "metadata": {
        "colab": {
          "base_uri": "https://localhost:8080/"
        },
        "id": "kQzPkUjuS4W-",
        "outputId": "0e8d1e19-62b2-4764-8296-151646f541b7"
      },
      "source": [
        "y_train\n",
        "y_val\n",
        "y_test #now indices for response are also not jumbled."
      ],
      "execution_count": 18,
      "outputs": [
        {
          "output_type": "execute_result",
          "data": {
            "text/plain": [
              "0       4.110874\n",
              "1       5.525453\n",
              "2       4.394449\n",
              "3       4.564348\n",
              "4       6.111467\n",
              "          ...   \n",
              "9774    3.713572\n",
              "9775    5.017280\n",
              "9776    3.931826\n",
              "9777    4.663439\n",
              "9778    3.931826\n",
              "Name: price, Length: 9779, dtype: float64"
            ]
          },
          "metadata": {},
          "execution_count": 18
        }
      ]
    },
    {
      "cell_type": "markdown",
      "metadata": {
        "id": "JBUjMCgVh1nR"
      },
      "source": [
        "Now, use `DictVectorizer` to turn train and validation into matrices:"
      ]
    },
    {
      "cell_type": "code",
      "metadata": {
        "id": "yE4g7Wd2sW3u"
      },
      "source": [
        "from sklearn.feature_extraction import DictVectorizer"
      ],
      "execution_count": 19,
      "outputs": []
    },
    {
      "cell_type": "code",
      "metadata": {
        "id": "SfPoZ-oSh1nR"
      },
      "source": [
        "dict_train = X_train.to_dict(orient=\"records\")\n",
        "dv = DictVectorizer(sparse=False)\n",
        "X_train_encoded = dv.fit_transform(dict_train)"
      ],
      "execution_count": 20,
      "outputs": []
    },
    {
      "cell_type": "code",
      "metadata": {
        "id": "OsdmP6cDxx4Z"
      },
      "source": [
        "dict_val = X_val.to_dict(orient=\"records\")\n",
        "X_val_encoded = dv.transform(dict_val)\n",
        "dict_test = X_test.to_dict(orient=\"records\")\n",
        "X_test_encoded = dv.transform(dict_test)"
      ],
      "execution_count": 21,
      "outputs": []
    },
    {
      "cell_type": "code",
      "metadata": {
        "colab": {
          "base_uri": "https://localhost:8080/"
        },
        "id": "5ssKMA4ON_B2",
        "outputId": "5849a0ce-4118-4576-e4d1-e7391097fec2"
      },
      "source": [
        "#no of cols increases after encoding cos new features get created for categorical column values.\n",
        "print(X_train_encoded.shape, X_val_encoded.shape, X_test_encoded.shape)\n",
        "print(y_train.shape, y_val.shape, y_test.shape)"
      ],
      "execution_count": 22,
      "outputs": [
        {
          "output_type": "stream",
          "name": "stdout",
          "text": [
            "(29337, 15) (9779, 15) (9779, 15)\n",
            "(29337,) (9779,) (9779,)\n"
          ]
        }
      ]
    },
    {
      "cell_type": "code",
      "metadata": {
        "colab": {
          "base_uri": "https://localhost:8080/"
        },
        "id": "hk0dTFlE1WfW",
        "outputId": "99f76ff4-28eb-4252-a549-2a376d8cc23d"
      },
      "source": [
        "X_train_encoded"
      ],
      "execution_count": 23,
      "outputs": [
        {
          "output_type": "execute_result",
          "data": {
            "text/plain": [
              "array([[363.     ,   1.     ,  40.76434, ...,   1.     ,   0.     ,\n",
              "          0.     ],\n",
              "       [  0.     ,   1.     ,  40.73442, ...,   0.     ,   1.     ,\n",
              "          0.     ],\n",
              "       [113.     ,   5.     ,  40.66359, ...,   1.     ,   0.     ,\n",
              "          0.     ],\n",
              "       ...,\n",
              "       [178.     ,   2.     ,  40.69034, ...,   0.     ,   1.     ,\n",
              "          0.     ],\n",
              "       [  0.     ,   1.     ,  40.76324, ...,   1.     ,   0.     ,\n",
              "          0.     ],\n",
              "       [362.     ,  23.     ,  40.74563, ...,   1.     ,   0.     ,\n",
              "          0.     ]])"
            ]
          },
          "metadata": {},
          "execution_count": 23
        }
      ]
    },
    {
      "cell_type": "markdown",
      "metadata": {
        "id": "gf-wAcURh1nS"
      },
      "source": [
        "## Question 1\n",
        "\n",
        "Let's train a decision tree regressor to predict the price variable. \n",
        "\n",
        "* Train a model with `max_depth=1`"
      ]
    },
    {
      "cell_type": "code",
      "metadata": {
        "id": "7ddu7WM3h1nS"
      },
      "source": [
        "from sklearn.tree import DecisionTreeRegressor\n",
        "model_qn1 = DecisionTreeRegressor(max_depth=1)\n"
      ],
      "execution_count": 24,
      "outputs": []
    },
    {
      "cell_type": "code",
      "metadata": {
        "colab": {
          "base_uri": "https://localhost:8080/"
        },
        "id": "hU5ixMTy2eQo",
        "outputId": "bb1f19e8-0cda-44f1-aa9f-1d26b549c6f5"
      },
      "source": [
        "model_qn1.fit(X_train_encoded, y_train)\n",
        "# model_qn1.predict_proba(X_val)[:,1]"
      ],
      "execution_count": 25,
      "outputs": [
        {
          "output_type": "execute_result",
          "data": {
            "text/plain": [
              "DecisionTreeRegressor(ccp_alpha=0.0, criterion='mse', max_depth=1,\n",
              "                      max_features=None, max_leaf_nodes=None,\n",
              "                      min_impurity_decrease=0.0, min_impurity_split=None,\n",
              "                      min_samples_leaf=1, min_samples_split=2,\n",
              "                      min_weight_fraction_leaf=0.0, presort='deprecated',\n",
              "                      random_state=None, splitter='best')"
            ]
          },
          "metadata": {},
          "execution_count": 25
        }
      ]
    },
    {
      "cell_type": "code",
      "metadata": {
        "id": "S_81zzWHVprR"
      },
      "source": [
        "from sklearn.tree import export_text\n"
      ],
      "execution_count": 26,
      "outputs": []
    },
    {
      "cell_type": "code",
      "metadata": {
        "colab": {
          "base_uri": "https://localhost:8080/"
        },
        "id": "319m7wDCdJ53",
        "outputId": "bade8dea-cf1e-4b4f-dfc4-434a48746c78"
      },
      "source": [
        "dv.get_feature_names()"
      ],
      "execution_count": 27,
      "outputs": [
        {
          "output_type": "execute_result",
          "data": {
            "text/plain": [
              "['availability_365',\n",
              " 'calculated_host_listings_count',\n",
              " 'latitude',\n",
              " 'longitude',\n",
              " 'minimum_nights',\n",
              " 'neighbourhood_group=Bronx',\n",
              " 'neighbourhood_group=Brooklyn',\n",
              " 'neighbourhood_group=Manhattan',\n",
              " 'neighbourhood_group=Queens',\n",
              " 'neighbourhood_group=Staten Island',\n",
              " 'number_of_reviews',\n",
              " 'reviews_per_month',\n",
              " 'room_type=Entire home/apt',\n",
              " 'room_type=Private room',\n",
              " 'room_type=Shared room']"
            ]
          },
          "metadata": {},
          "execution_count": 27
        }
      ]
    },
    {
      "cell_type": "code",
      "metadata": {
        "colab": {
          "base_uri": "https://localhost:8080/"
        },
        "id": "BvoAkdd-XQqY",
        "outputId": "71b4920e-1352-4633-c193-b42c7806fdda"
      },
      "source": [
        "print(export_text(model_qn1, feature_names=dv.get_feature_names()))\n",
        "\n",
        "#feature_12 is what we need : room_type"
      ],
      "execution_count": 28,
      "outputs": [
        {
          "output_type": "stream",
          "name": "stdout",
          "text": [
            "|--- room_type=Entire home/apt <= 0.50\n",
            "|   |--- value: [4.29]\n",
            "|--- room_type=Entire home/apt >  0.50\n",
            "|   |--- value: [5.15]\n",
            "\n"
          ]
        }
      ]
    },
    {
      "cell_type": "code",
      "metadata": {
        "colab": {
          "base_uri": "https://localhost:8080/",
          "height": 213
        },
        "id": "IuwYgq7GXlqt",
        "outputId": "be95a377-2b4f-450f-d217-abc7b24f2ab8"
      },
      "source": [
        "X_train.head(3)"
      ],
      "execution_count": 29,
      "outputs": [
        {
          "output_type": "execute_result",
          "data": {
            "text/html": [
              "<div>\n",
              "<style scoped>\n",
              "    .dataframe tbody tr th:only-of-type {\n",
              "        vertical-align: middle;\n",
              "    }\n",
              "\n",
              "    .dataframe tbody tr th {\n",
              "        vertical-align: top;\n",
              "    }\n",
              "\n",
              "    .dataframe thead th {\n",
              "        text-align: right;\n",
              "    }\n",
              "</style>\n",
              "<table border=\"1\" class=\"dataframe\">\n",
              "  <thead>\n",
              "    <tr style=\"text-align: right;\">\n",
              "      <th></th>\n",
              "      <th>latitude</th>\n",
              "      <th>longitude</th>\n",
              "      <th>minimum_nights</th>\n",
              "      <th>number_of_reviews</th>\n",
              "      <th>reviews_per_month</th>\n",
              "      <th>calculated_host_listings_count</th>\n",
              "      <th>availability_365</th>\n",
              "      <th>neighbourhood_group</th>\n",
              "      <th>room_type</th>\n",
              "    </tr>\n",
              "  </thead>\n",
              "  <tbody>\n",
              "    <tr>\n",
              "      <th>0</th>\n",
              "      <td>40.76434</td>\n",
              "      <td>-73.92132</td>\n",
              "      <td>4</td>\n",
              "      <td>30</td>\n",
              "      <td>0.32</td>\n",
              "      <td>1</td>\n",
              "      <td>363</td>\n",
              "      <td>Queens</td>\n",
              "      <td>Entire home/apt</td>\n",
              "    </tr>\n",
              "    <tr>\n",
              "      <th>1</th>\n",
              "      <td>40.73442</td>\n",
              "      <td>-73.95854</td>\n",
              "      <td>5</td>\n",
              "      <td>2</td>\n",
              "      <td>0.16</td>\n",
              "      <td>1</td>\n",
              "      <td>0</td>\n",
              "      <td>Brooklyn</td>\n",
              "      <td>Private room</td>\n",
              "    </tr>\n",
              "    <tr>\n",
              "      <th>2</th>\n",
              "      <td>40.66359</td>\n",
              "      <td>-73.99487</td>\n",
              "      <td>1</td>\n",
              "      <td>33</td>\n",
              "      <td>2.75</td>\n",
              "      <td>5</td>\n",
              "      <td>113</td>\n",
              "      <td>Brooklyn</td>\n",
              "      <td>Entire home/apt</td>\n",
              "    </tr>\n",
              "  </tbody>\n",
              "</table>\n",
              "</div>"
            ],
            "text/plain": [
              "   latitude  longitude  ...  neighbourhood_group        room_type\n",
              "0  40.76434  -73.92132  ...               Queens  Entire home/apt\n",
              "1  40.73442  -73.95854  ...             Brooklyn     Private room\n",
              "2  40.66359  -73.99487  ...             Brooklyn  Entire home/apt\n",
              "\n",
              "[3 rows x 9 columns]"
            ]
          },
          "metadata": {},
          "execution_count": 29
        }
      ]
    },
    {
      "cell_type": "code",
      "metadata": {
        "colab": {
          "base_uri": "https://localhost:8080/"
        },
        "id": "2n0cD8L5XqtP",
        "outputId": "fd261575-6261-4d62-e3f2-15e9f50587f6"
      },
      "source": [
        "X_train_encoded[0:4,:] #dv causes loss of column order"
      ],
      "execution_count": 30,
      "outputs": [
        {
          "output_type": "execute_result",
          "data": {
            "text/plain": [
              "array([[ 3.630000e+02,  1.000000e+00,  4.076434e+01, -7.392132e+01,\n",
              "         4.000000e+00,  0.000000e+00,  0.000000e+00,  0.000000e+00,\n",
              "         1.000000e+00,  0.000000e+00,  3.000000e+01,  3.200000e-01,\n",
              "         1.000000e+00,  0.000000e+00,  0.000000e+00],\n",
              "       [ 0.000000e+00,  1.000000e+00,  4.073442e+01, -7.395854e+01,\n",
              "         5.000000e+00,  0.000000e+00,  1.000000e+00,  0.000000e+00,\n",
              "         0.000000e+00,  0.000000e+00,  2.000000e+00,  1.600000e-01,\n",
              "         0.000000e+00,  1.000000e+00,  0.000000e+00],\n",
              "       [ 1.130000e+02,  5.000000e+00,  4.066359e+01, -7.399487e+01,\n",
              "         1.000000e+00,  0.000000e+00,  1.000000e+00,  0.000000e+00,\n",
              "         0.000000e+00,  0.000000e+00,  3.300000e+01,  2.750000e+00,\n",
              "         1.000000e+00,  0.000000e+00,  0.000000e+00],\n",
              "       [ 3.620000e+02,  2.000000e+00,  4.063766e+01, -7.402626e+01,\n",
              "         3.000000e+00,  0.000000e+00,  1.000000e+00,  0.000000e+00,\n",
              "         0.000000e+00,  0.000000e+00,  1.000000e+00,  1.200000e-01,\n",
              "         0.000000e+00,  1.000000e+00,  0.000000e+00]])"
            ]
          },
          "metadata": {},
          "execution_count": 30
        }
      ]
    },
    {
      "cell_type": "code",
      "metadata": {
        "id": "LaDpuvab1KKQ"
      },
      "source": [
        ""
      ],
      "execution_count": 30,
      "outputs": []
    },
    {
      "cell_type": "markdown",
      "metadata": {
        "id": "WjhDvKJuh1nT"
      },
      "source": [
        "Which feature is used for splitting the data?\n",
        "\n",
        "* `room_type`\n",
        "* `neighbourhood_group`\n",
        "* `number_of_reviews`\n",
        "* `reviews_per_month`"
      ]
    },
    {
      "cell_type": "code",
      "metadata": {
        "id": "1-PFTqo8ei1S"
      },
      "source": [
        "#answered above"
      ],
      "execution_count": 31,
      "outputs": []
    },
    {
      "cell_type": "markdown",
      "metadata": {
        "id": "xDfZX4YDh1nT"
      },
      "source": [
        "## Question 2\n",
        "\n",
        "Train a random forest model with these parameters:\n",
        "\n",
        "* `n_estimators=10`\n",
        "* `random_state=1`\n",
        "* `n_jobs=-1`  (optional - to make training faster)"
      ]
    },
    {
      "cell_type": "code",
      "metadata": {
        "id": "34b65_g-h1nT"
      },
      "source": [
        "from sklearn.ensemble import RandomForestRegressor"
      ],
      "execution_count": 34,
      "outputs": []
    },
    {
      "cell_type": "code",
      "metadata": {
        "colab": {
          "base_uri": "https://localhost:8080/"
        },
        "id": "uAr10AJ83hZY",
        "outputId": "b4060c31-1e88-403d-9d08-3f3e69653898"
      },
      "source": [
        "model_qn_2 = RandomForestRegressor(n_estimators=10, random_state=1, n_jobs=-1) #n_estimators is the no of trees. #n_jobs will parallelize i think\n",
        "model_qn_2.fit(X_train_encoded, y_train)"
      ],
      "execution_count": 35,
      "outputs": [
        {
          "output_type": "execute_result",
          "data": {
            "text/plain": [
              "RandomForestRegressor(bootstrap=True, ccp_alpha=0.0, criterion='mse',\n",
              "                      max_depth=None, max_features='auto', max_leaf_nodes=None,\n",
              "                      max_samples=None, min_impurity_decrease=0.0,\n",
              "                      min_impurity_split=None, min_samples_leaf=1,\n",
              "                      min_samples_split=2, min_weight_fraction_leaf=0.0,\n",
              "                      n_estimators=10, n_jobs=-1, oob_score=False,\n",
              "                      random_state=1, verbose=0, warm_start=False)"
            ]
          },
          "metadata": {},
          "execution_count": 35
        }
      ]
    },
    {
      "cell_type": "code",
      "metadata": {
        "id": "cGiOowHW5mXr"
      },
      "source": [
        "from sklearn.metrics import mean_squared_error"
      ],
      "execution_count": 38,
      "outputs": []
    },
    {
      "cell_type": "code",
      "metadata": {
        "colab": {
          "base_uri": "https://localhost:8080/"
        },
        "id": "0BMAtgEhqtMs",
        "outputId": "103e052d-4fdb-4c05-bc7a-d88c37787ca4"
      },
      "source": [
        "X_val_encoded.shape\n"
      ],
      "execution_count": 45,
      "outputs": [
        {
          "output_type": "execute_result",
          "data": {
            "text/plain": [
              "(9779, 15)"
            ]
          },
          "metadata": {},
          "execution_count": 45
        }
      ]
    },
    {
      "cell_type": "code",
      "metadata": {
        "id": "qTbvJuIK3xgZ",
        "colab": {
          "base_uri": "https://localhost:8080/",
          "height": 52
        },
        "outputId": "724615d3-e9a4-45fd-b93d-c1fd2f040668"
      },
      "source": [
        "y_predict_qn2 = model_qn_2.predict(X_val_encoded)\n",
        "#y_predict_qn2\n",
        "display(mean_squared_error(y_val, y_predict_qn2, squared=False)) #without taking np.expm1\n",
        "display(np.expm1(mean_squared_error(y_val, y_predict_qn2, squared=False))) #after taking np.expm1"
      ],
      "execution_count": 51,
      "outputs": [
        {
          "output_type": "display_data",
          "data": {
            "text/plain": [
              "0.460888788095762"
            ]
          },
          "metadata": {}
        },
        {
          "output_type": "display_data",
          "data": {
            "text/plain": [
              "0.5854825169456447"
            ]
          },
          "metadata": {}
        }
      ]
    },
    {
      "cell_type": "markdown",
      "metadata": {
        "id": "oPjfcKx7h1nU"
      },
      "source": [
        "What's the RMSE of this model on validation?\n",
        "\n",
        "* 0.059\n",
        "* 0.259\n",
        "* 0.459\n",
        "* 0.659"
      ]
    },
    {
      "cell_type": "code",
      "metadata": {
        "id": "2iSZpn_85P15"
      },
      "source": [
        "#answered above"
      ],
      "execution_count": null,
      "outputs": []
    },
    {
      "cell_type": "markdown",
      "metadata": {
        "id": "_5xqC_37h1nU"
      },
      "source": [
        "## Question 3\n",
        "\n",
        "Now let's experiment with the `n_estimators` parameter\n",
        "\n",
        "* Try different values of this parameter from 10 to 200 with step 10\n",
        "* Set `random_state` to `1`\n",
        "* Evaluate the model on the validation dataset"
      ]
    },
    {
      "cell_type": "code",
      "metadata": {
        "id": "fWUCDhqQr0z8"
      },
      "source": [
        "def pred_rf_wrt_estimators(n):\n",
        "  model = RandomForestRegressor(n_estimators=n, random_state=1, n_jobs=-1)\n",
        "  model.fit(X_train_encoded, y_train)\n",
        "  prediction = model.predict(X_val_encoded)\n",
        "  rmse = mean_squared_error(y_val, prediction, squared=False)\n",
        "  return rmse"
      ],
      "execution_count": 54,
      "outputs": []
    },
    {
      "cell_type": "code",
      "metadata": {
        "id": "-acMeoRftfW8"
      },
      "source": [
        "estimator_list = np.arange(10,210, 10)\n",
        "result = []\n",
        "for numbr in estimator_list:\n",
        "  result.append(pred_rf_wrt_estimators(numbr))"
      ],
      "execution_count": 55,
      "outputs": []
    },
    {
      "cell_type": "code",
      "metadata": {
        "id": "3NB2o4neh1nU"
      },
      "source": [
        "import matplotlib.pyplot as plt"
      ],
      "execution_count": 56,
      "outputs": []
    },
    {
      "cell_type": "code",
      "metadata": {
        "colab": {
          "base_uri": "https://localhost:8080/"
        },
        "id": "cMxIfM_IvqNN",
        "outputId": "f73716a1-e984-4e7d-d1db-a890f1147867"
      },
      "source": [
        "result"
      ],
      "execution_count": 57,
      "outputs": [
        {
          "output_type": "execute_result",
          "data": {
            "text/plain": [
              "[0.460888788095762,\n",
              " 0.4474405542590174,\n",
              " 0.44440015830200136,\n",
              " 0.44281711871165336,\n",
              " 0.44176815762157207,\n",
              " 0.44125165338475053,\n",
              " 0.44064455072014125,\n",
              " 0.440740830263047,\n",
              " 0.4402749020311618,\n",
              " 0.4397631903425602,\n",
              " 0.4393128261208466,\n",
              " 0.43912990819267467,\n",
              " 0.43927965755127013,\n",
              " 0.4391514983746916,\n",
              " 0.43902892484355854,\n",
              " 0.4388423640549406,\n",
              " 0.43874605090230334,\n",
              " 0.4388528948224223,\n",
              " 0.43879074353852315,\n",
              " 0.4387871286025359]"
            ]
          },
          "metadata": {},
          "execution_count": 57
        }
      ]
    },
    {
      "cell_type": "code",
      "metadata": {
        "colab": {
          "base_uri": "https://localhost:8080/",
          "height": 265
        },
        "id": "1RensFaHuV_1",
        "outputId": "6d3cfd1b-dcbd-4de5-bf15-8f1330faa1a7"
      },
      "source": [
        "plt.plot(estimator_list, result)\n",
        "plt.show()"
      ],
      "execution_count": 58,
      "outputs": [
        {
          "output_type": "display_data",
          "data": {
            "image/png": "[encoded data removed]",
            "text/plain": [
              "<Figure size 432x288 with 1 Axes>"
            ]
          },
          "metadata": {
            "needs_background": "light"
          }
        }
      ]
    },
    {
      "cell_type": "markdown",
      "metadata": {
        "id": "3RQbYjT6h1nU"
      },
      "source": [
        "After which value of `n_estimators` does RMSE stop improving?\n",
        "\n",
        "- 10\n",
        "- 50\n",
        "- 70\n",
        "- 120"
      ]
    },
    {
      "cell_type": "code",
      "metadata": {
        "id": "Lk8pgGfSvzYh"
      },
      "source": [
        "#around 120."
      ],
      "execution_count": null,
      "outputs": []
    },
    {
      "cell_type": "markdown",
      "metadata": {
        "id": "mZGk6WC-h1nV"
      },
      "source": [
        "## Question 4\n",
        "\n",
        "Let's select the best `max_depth`:\n",
        "\n",
        "* Try different values of `max_depth`: `[10, 15, 20, 25]`\n",
        "* For each of these values, try different values of `n_estimators` from 10 till 200 (with step 10)\n",
        "* Fix the random seed: `random_state=1`"
      ]
    },
    {
      "cell_type": "code",
      "metadata": {
        "id": "pijSlkTqvPUE"
      },
      "source": [
        "def pred_rf_wrt_estimators_And_Depth(n, d):\n",
        "  model = RandomForestRegressor(n_estimators=n, max_depth = d, random_state=1, n_jobs=-1)\n",
        "  model.fit(X_train_encoded, y_train)\n",
        "  prediction = model.predict(X_val_encoded)\n",
        "  rmse = mean_squared_error(y_val, prediction, squared=False)\n",
        "  return rmse"
      ],
      "execution_count": 59,
      "outputs": []
    },
    {
      "cell_type": "code",
      "metadata": {
        "colab": {
          "base_uri": "https://localhost:8080/"
        },
        "id": "bTiXyQyCv4aw",
        "outputId": "d6a8db65-2235-4f5b-fe3b-04910b92695e"
      },
      "source": [
        "estimator_list = np.arange(10,210, 10)\n",
        "for depth in [10,15,20,25]:\n",
        "  result_numbr_depth = []\n",
        "  for numbr in estimator_list:\n",
        "    print(\"numbr, depth : \", numbr, depth)\n",
        "    result_numbr_depth.append(pred_rf_wrt_estimators_And_Depth(numbr, depth))"
      ],
      "execution_count": 60,
      "outputs": [
        {
          "output_type": "stream",
          "name": "stdout",
          "text": [
            "numbr, depth :  10 10\n",
            "numbr, depth :  20 10\n",
            "numbr, depth :  30 10\n",
            "numbr, depth :  40 10\n",
            "numbr, depth :  50 10\n",
            "numbr, depth :  60 10\n",
            "numbr, depth :  70 10\n",
            "numbr, depth :  80 10\n",
            "numbr, depth :  90 10\n",
            "numbr, depth :  100 10\n",
            "numbr, depth :  110 10\n",
            "numbr, depth :  120 10\n",
            "numbr, depth :  130 10\n",
            "numbr, depth :  140 10\n",
            "numbr, depth :  150 10\n",
            "numbr, depth :  160 10\n",
            "numbr, depth :  170 10\n",
            "numbr, depth :  180 10\n",
            "numbr, depth :  190 10\n",
            "numbr, depth :  200 10\n",
            "numbr, depth :  10 15\n",
            "numbr, depth :  20 15\n",
            "numbr, depth :  30 15\n",
            "numbr, depth :  40 15\n",
            "numbr, depth :  50 15\n",
            "numbr, depth :  60 15\n",
            "numbr, depth :  70 15\n",
            "numbr, depth :  80 15\n",
            "numbr, depth :  90 15\n",
            "numbr, depth :  100 15\n",
            "numbr, depth :  110 15\n",
            "numbr, depth :  120 15\n",
            "numbr, depth :  130 15\n",
            "numbr, depth :  140 15\n",
            "numbr, depth :  150 15\n",
            "numbr, depth :  160 15\n",
            "numbr, depth :  170 15\n",
            "numbr, depth :  180 15\n",
            "numbr, depth :  190 15\n",
            "numbr, depth :  200 15\n",
            "numbr, depth :  10 20\n",
            "numbr, depth :  20 20\n",
            "numbr, depth :  30 20\n",
            "numbr, depth :  40 20\n",
            "numbr, depth :  50 20\n",
            "numbr, depth :  60 20\n",
            "numbr, depth :  70 20\n",
            "numbr, depth :  80 20\n",
            "numbr, depth :  90 20\n",
            "numbr, depth :  100 20\n",
            "numbr, depth :  110 20\n",
            "numbr, depth :  120 20\n",
            "numbr, depth :  130 20\n",
            "numbr, depth :  140 20\n",
            "numbr, depth :  150 20\n",
            "numbr, depth :  160 20\n",
            "numbr, depth :  170 20\n",
            "numbr, depth :  180 20\n",
            "numbr, depth :  190 20\n",
            "numbr, depth :  200 20\n",
            "numbr, depth :  10 25\n",
            "numbr, depth :  20 25\n",
            "numbr, depth :  30 25\n",
            "numbr, depth :  40 25\n",
            "numbr, depth :  50 25\n",
            "numbr, depth :  60 25\n",
            "numbr, depth :  70 25\n",
            "numbr, depth :  80 25\n",
            "numbr, depth :  90 25\n",
            "numbr, depth :  100 25\n",
            "numbr, depth :  110 25\n",
            "numbr, depth :  120 25\n",
            "numbr, depth :  130 25\n",
            "numbr, depth :  140 25\n",
            "numbr, depth :  150 25\n",
            "numbr, depth :  160 25\n",
            "numbr, depth :  170 25\n",
            "numbr, depth :  180 25\n",
            "numbr, depth :  190 25\n",
            "numbr, depth :  200 25\n"
          ]
        }
      ]
    },
    {
      "cell_type": "markdown",
      "metadata": {
        "id": "kP6h0q_ih1nV"
      },
      "source": [
        "What's the best `max_depth`:\n",
        "\n",
        "* 10\n",
        "* 15\n",
        "* 20\n",
        "* 25\n",
        "\n",
        "Bonus question (not graded):\n",
        "\n",
        "Will the answer be different if we change the seed for the model?"
      ]
    },
    {
      "cell_type": "code",
      "metadata": {
        "colab": {
          "base_uri": "https://localhost:8080/",
          "height": 238
        },
        "id": "rNxc9s2y2WjH",
        "outputId": "b925d015-69f3-4b59-9fa6-fd5600a06ae3"
      },
      "source": [
        "df = pd.DataFrame(data=None, columns=[\"number\", \"depth\"])\n",
        "i=0\n",
        "dict = {\n",
        "    [10,15,20,25]:estimator_list\n",
        "}\n",
        "display(dict)\n"
      ],
      "execution_count": 75,
      "outputs": [
        {
          "output_type": "error",
          "ename": "TypeError",
          "evalue": "ignored",
          "traceback": [
            "\u001b[0;31m---------------------------------------------------------------------------\u001b[0m",
            "\u001b[0;31mTypeError\u001b[0m                                 Traceback (most recent call last)",
            "\u001b[0;32m<ipython-input-75-9e4a48b88979>\u001b[0m in \u001b[0;36m<module>\u001b[0;34m()\u001b[0m\n\u001b[1;32m      2\u001b[0m \u001b[0mi\u001b[0m\u001b[0;34m=\u001b[0m\u001b[0;36m0\u001b[0m\u001b[0;34m\u001b[0m\u001b[0;34m\u001b[0m\u001b[0m\n\u001b[1;32m      3\u001b[0m dict = {\n\u001b[0;32m----> 4\u001b[0;31m     \u001b[0;34m[\u001b[0m\u001b[0;36m10\u001b[0m\u001b[0;34m,\u001b[0m\u001b[0;36m15\u001b[0m\u001b[0;34m,\u001b[0m\u001b[0;36m20\u001b[0m\u001b[0;34m,\u001b[0m\u001b[0;36m25\u001b[0m\u001b[0;34m]\u001b[0m\u001b[0;34m:\u001b[0m\u001b[0mestimator_list\u001b[0m\u001b[0;34m\u001b[0m\u001b[0;34m\u001b[0m\u001b[0m\n\u001b[0m\u001b[1;32m      5\u001b[0m }\n\u001b[1;32m      6\u001b[0m \u001b[0mdisplay\u001b[0m\u001b[0;34m(\u001b[0m\u001b[0mdict\u001b[0m\u001b[0;34m)\u001b[0m\u001b[0;34m\u001b[0m\u001b[0;34m\u001b[0m\u001b[0m\n",
            "\u001b[0;31mTypeError\u001b[0m: unhashable type: 'list'"
          ]
        }
      ]
    },
    {
      "cell_type": "code",
      "metadata": {
        "colab": {
          "base_uri": "https://localhost:8080/",
          "height": 265
        },
        "id": "IBSSq7LZ0MB9",
        "outputId": "fe859083-8c12-4e5c-a9c2-563f79a962a2"
      },
      "source": [
        "plt.plot(result_numbr_depth)\n",
        "pd.DataFrame(estimator_list, [10,15,20,25])\n",
        "plt.show()"
      ],
      "execution_count": 63,
      "outputs": [
        {
          "output_type": "display_data",
          "data": {
            "image/png": "[encoded data removed]",
            "text/plain": [
              "<Figure size 432x288 with 1 Axes>"
            ]
          },
          "metadata": {
            "needs_background": "light"
          }
        }
      ]
    },
    {
      "cell_type": "markdown",
      "metadata": {
        "id": "6OXibzESxUCA"
      },
      "source": [
        "Answer :Yes i believe answer will change bcos the randomizations during bootstrapping change, and scikitlearn uses bootstrap=True for RandomForestRegressor by default."
      ]
    },
    {
      "cell_type": "markdown",
      "metadata": {
        "id": "AoSBvwPHh1nV"
      },
      "source": [
        "## Question 5\n",
        "\n",
        "We can extract feature importance information from tree-based models. \n",
        "\n",
        "At each step of the decision tree learning algorith, it finds the best split. \n",
        "When doint it, we can calculate \"gain\" - the reduction in impurity before and after the split. \n",
        "This gain is quite useful in understanding what are the imporatant features \n",
        "for tree-based models.\n",
        "\n",
        "In Scikit-Learn, tree-based models contain this information in the `feature_importances_` field. \n",
        "\n",
        "For this homework question, we'll find the most important feature:\n",
        "\n",
        "* Train the model with these parametes:\n",
        "    * `n_estimators=10`,\n",
        "    * `max_depth=20`,\n",
        "    * `random_state=1`,\n",
        "    * `n_jobs=-1` (optional)\n",
        "* Get the feature importance information from this model"
      ]
    },
    {
      "cell_type": "code",
      "metadata": {
        "id": "6hh04TCuh1nW"
      },
      "source": [
        "#Getting feature importance.\n",
        "model_qn5 = RandomForestRegressor(n_estimators=10, max_depth=20, random_state=1, n_jobs=-1)\n",
        "model_qn5.fit(X_train_encoded, y_train)\n",
        "importances = model_qn5.feature_importances_"
      ],
      "execution_count": 76,
      "outputs": []
    },
    {
      "cell_type": "code",
      "metadata": {
        "colab": {
          "base_uri": "https://localhost:8080/",
          "height": 439
        },
        "id": "QYdx_0Gc4Zfm",
        "outputId": "cd49fff2-393d-4ea8-dc8a-8336d5e98282"
      },
      "source": [
        "plt.bar(dv.get_feature_names(), importances )\n",
        "plt.xticks(rotation = 90)\n",
        "plt.show()"
      ],
      "execution_count": 81,
      "outputs": [
        {
          "output_type": "display_data",
          "data": {
            "image/png": "[encoded data removed]",
            "text/plain": [
              "<Figure size 432x288 with 1 Axes>"
            ]
          },
          "metadata": {
            "needs_background": "light"
          }
        }
      ]
    },
    {
      "cell_type": "markdown",
      "metadata": {
        "id": "1_WWfMSXh1nW"
      },
      "source": [
        "What's the most important feature? \n",
        "\n",
        "* `neighbourhood_group=Manhattan`\n",
        "* `room_type=Entire home/apt`\t\n",
        "* `longitude`\n",
        "* `latitude`"
      ]
    },
    {
      "cell_type": "markdown",
      "metadata": {
        "id": "vEPLLIGw5T27"
      },
      "source": [
        "Answer : room_type=Entire home/apt"
      ]
    },
    {
      "cell_type": "markdown",
      "metadata": {
        "id": "od637nORh1nW"
      },
      "source": [
        "## Question 6"
      ]
    },
    {
      "cell_type": "markdown",
      "metadata": {
        "id": "LUnjd_pnh1nW"
      },
      "source": [
        "Now let's train an XGBoost model! For this question, we'll tune the `eta` parameter\n",
        "\n",
        "* Install XGBoost\n",
        "* Create DMatrix for train and validation\n",
        "* Create a watchlist\n",
        "* Train a model with these parameters for 100 rounds:\n",
        "\n",
        "```\n",
        "xgb_params = {\n",
        "    'eta': 0.3, \n",
        "    'max_depth': 6,\n",
        "    'min_child_weight': 1,\n",
        "    \n",
        "    'objective': 'reg:squarederror',\n",
        "    'nthread': 8,\n",
        "    \n",
        "    'seed': 1,\n",
        "    'verbosity': 1,\n",
        "}\n",
        "```"
      ]
    },
    {
      "cell_type": "code",
      "metadata": {
        "id": "sXlyPCThh1nX"
      },
      "source": [
        ""
      ],
      "execution_count": null,
      "outputs": []
    },
    {
      "cell_type": "markdown",
      "metadata": {
        "id": "0J7PP0mbh1nX"
      },
      "source": [
        "Now change `eta` first to `0.1` and then to `0.01`"
      ]
    },
    {
      "cell_type": "code",
      "metadata": {
        "id": "4gU7T118h1nX"
      },
      "source": [
        ""
      ],
      "execution_count": null,
      "outputs": []
    },
    {
      "cell_type": "markdown",
      "metadata": {
        "id": "yot9MENmh1nX"
      },
      "source": [
        "Which eta leads to the best RMSE score on the validation dataset?\n",
        "\n",
        "* 0.3\n",
        "* 0.1\n",
        "* 0.01"
      ]
    },
    {
      "cell_type": "markdown",
      "metadata": {
        "id": "im5Xa6V2h1nX"
      },
      "source": [
        "## Submit the results\n",
        "\n",
        "\n",
        "Submit your results here: https://forms.gle/wQgFkYE6CtdDed4w8\n",
        "\n",
        "It's possible that your answers won't match exactly. If it's the case, select the closest one.\n",
        "\n",
        "\n",
        "## Deadline\n",
        "\n",
        "\n",
        "The deadline for submitting is 20 October 2021, 17:00 CET (Wednesday). After that, the form will be closed.\n",
        "\n"
      ]
    }
  ]
}