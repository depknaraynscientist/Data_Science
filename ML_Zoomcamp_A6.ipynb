{
  "nbformat": 4,
  "nbformat_minor": 0,
  "metadata": {
    "kernelspec": {
      "display_name": "Python 3",
      "language": "python",
      "name": "python3"
    },
    "language_info": {
      "codemirror_mode": {
        "name": "ipython",
        "version": 3
      },
      "file_extension": ".py",
      "mimetype": "text/x-python",
      "name": "python",
      "nbconvert_exporter": "python",
      "pygments_lexer": "ipython3",
      "version": "3.7.3"
    },
    "colab": {
      "name": "ML_Zoomcamp_A6.ipynb",
      "provenance": [],
      "collapsed_sections": [],
      "include_colab_link": true
    }
  },
  "cells": [
    {
      "cell_type": "markdown",
      "metadata": {
        "id": "view-in-github",
        "colab_type": "text"
      },
      "source": [
        "<a href=\"https://colab.research.google.com/github/depknaraynscientist/Data_Science/blob/main/ML_Zoomcamp_A6.ipynb\" target=\"_parent\"><img src=\"https://colab.research.google.com/assets/colab-badge.svg\" alt=\"Open In Colab\"/></a>"
      ]
    },
    {
      "cell_type": "markdown",
      "metadata": {
        "id": "jYuON5NWh1nL"
      },
      "source": [
        "## 6.10 Homework\n",
        "\n",
        "The goal of this homework is to create a tree-based regression model for prediction apartment prices (column `'price'`).\n",
        "\n",
        "In this homework we'll again use the New York City Airbnb Open Data dataset - the same one we used in homework 2 and 3.\n",
        "\n",
        "You can take it from [Kaggle](https://www.kaggle.com/dgomonov/new-york-city-airbnb-open-data?select=AB_NYC_2019.csv)\n",
        "or download from [here](https://raw.githubusercontent.com/alexeygrigorev/datasets/master/AB_NYC_2019.csv)\n",
        "if you don't want to sign up to Kaggle.\n",
        "\n",
        "Let's load the data:"
      ]
    },
    {
      "cell_type": "code",
      "metadata": {
        "id": "P3V1ed4_h1nP"
      },
      "source": [
        "import pandas as pd\n",
        "import numpy as np\n",
        "\n",
        "import matplotlib.pyplot as plt\n",
        "import seaborn as sns\n",
        "\n",
        "%matplotlib inline"
      ],
      "execution_count": 1,
      "outputs": []
    },
    {
      "cell_type": "code",
      "metadata": {
        "colab": {
          "base_uri": "https://localhost:8080/"
        },
        "id": "PkwM6EL2iBGz",
        "outputId": "4dd2a5ab-fc90-4ecb-bc3e-48c476e51c92"
      },
      "source": [
        "!wget \"https://raw.githubusercontent.com/alexeygrigorev/datasets/master/AB_NYC_2019.csv\""
      ],
      "execution_count": 3,
      "outputs": [
        {
          "output_type": "stream",
          "name": "stdout",
          "text": [
            "--2021-10-18 13:12:49--  https://raw.githubusercontent.com/alexeygrigorev/datasets/master/AB_NYC_2019.csv\n",
            "Resolving raw.githubusercontent.com (raw.githubusercontent.com)... 185.199.108.133, 185.199.109.133, 185.199.110.133, ...\n",
            "Connecting to raw.githubusercontent.com (raw.githubusercontent.com)|185.199.108.133|:443... connected.\n",
            "HTTP request sent, awaiting response... 200 OK\n",
            "Length: 7077973 (6.8M) [text/plain]\n",
            "Saving to: ‘AB_NYC_2019.csv’\n",
            "\n",
            "AB_NYC_2019.csv     100%[===================>]   6.75M  --.-KB/s    in 0.04s   \n",
            "\n",
            "2021-10-18 13:12:49 (183 MB/s) - ‘AB_NYC_2019.csv’ saved [7077973/7077973]\n",
            "\n"
          ]
        }
      ]
    },
    {
      "cell_type": "code",
      "metadata": {
        "id": "-BuTVrFFh1nQ"
      },
      "source": [
        "columns = [\n",
        "    'neighbourhood_group', 'room_type', 'latitude', 'longitude',\n",
        "    'minimum_nights', 'number_of_reviews','reviews_per_month',\n",
        "    'calculated_host_listings_count', 'availability_365',\n",
        "    'price'\n",
        "]\n",
        "\n",
        "df = pd.read_csv('AB_NYC_2019.csv', usecols=columns) #gets only the required columns.\n",
        "df.reviews_per_month = df.reviews_per_month.fillna(0)"
      ],
      "execution_count": 4,
      "outputs": []
    },
    {
      "cell_type": "markdown",
      "metadata": {
        "id": "jCdXYw4Jh1nQ"
      },
      "source": [
        "* Apply the log tranform to `price`\n",
        "* Do train/validation/test split with 60%/20%/20% distribution. \n",
        "* Use the `train_test_split` function and set the `random_state` parameter to 1"
      ]
    },
    {
      "cell_type": "code",
      "metadata": {
        "colab": {
          "base_uri": "https://localhost:8080/"
        },
        "id": "wzHxcH8Bh1nR",
        "outputId": "29c804c7-0e6c-45bb-dedf-6fd90ac40a42"
      },
      "source": [
        "#df['price'].describe()\n",
        "df['price'] = np.log(df['price'])"
      ],
      "execution_count": 10,
      "outputs": [
        {
          "output_type": "stream",
          "name": "stderr",
          "text": [
            "/usr/local/lib/python3.7/dist-packages/pandas/core/series.py:726: RuntimeWarning: divide by zero encountered in log\n",
            "  result = getattr(ufunc, method)(*inputs, **kwargs)\n"
          ]
        }
      ]
    },
    {
      "cell_type": "code",
      "metadata": {
        "id": "PczUxYzvj8RU"
      },
      "source": [
        "from IPython.display import display"
      ],
      "execution_count": 20,
      "outputs": []
    },
    {
      "cell_type": "code",
      "metadata": {
        "colab": {
          "base_uri": "https://localhost:8080/",
          "height": 510
        },
        "id": "wc9FqGgFja-j",
        "outputId": "94ea0e7d-595a-46de-c4b5-f97ab22d37ae"
      },
      "source": [
        "#A bit of EDA\n",
        "display(df.info())\n",
        "print(\"-------------\")\n",
        "#no missing values cos we filled the 1 column with zeros\n",
        "#48895 rows\n",
        "for i in df.columns:\n",
        "  display(df[i].nunique())\n",
        "#categorical : neighbourhood_group, room_type\n",
        "categorical = ['neighbourhood_group', 'room_type']\n",
        "numerical = ['latitude', 'longitude', 'minimum_nights', 'number_of_reviews', 'reviews_per_month', 'calculated_host_listings_count', 'availability_365']"
      ],
      "execution_count": 30,
      "outputs": [
        {
          "output_type": "stream",
          "name": "stdout",
          "text": [
            "<class 'pandas.core.frame.DataFrame'>\n",
            "RangeIndex: 48895 entries, 0 to 48894\n",
            "Data columns (total 10 columns):\n",
            " #   Column                          Non-Null Count  Dtype  \n",
            "---  ------                          --------------  -----  \n",
            " 0   neighbourhood_group             48895 non-null  object \n",
            " 1   latitude                        48895 non-null  float64\n",
            " 2   longitude                       48895 non-null  float64\n",
            " 3   room_type                       48895 non-null  object \n",
            " 4   price                           48895 non-null  float64\n",
            " 5   minimum_nights                  48895 non-null  int64  \n",
            " 6   number_of_reviews               48895 non-null  int64  \n",
            " 7   reviews_per_month               48895 non-null  float64\n",
            " 8   calculated_host_listings_count  48895 non-null  int64  \n",
            " 9   availability_365                48895 non-null  int64  \n",
            "dtypes: float64(4), int64(4), object(2)\n",
            "memory usage: 3.7+ MB\n"
          ]
        },
        {
          "output_type": "display_data",
          "data": {
            "text/plain": [
              "None"
            ]
          },
          "metadata": {}
        },
        {
          "output_type": "stream",
          "name": "stdout",
          "text": [
            "-------------\n"
          ]
        },
        {
          "output_type": "display_data",
          "data": {
            "text/plain": [
              "5"
            ]
          },
          "metadata": {}
        },
        {
          "output_type": "display_data",
          "data": {
            "text/plain": [
              "19048"
            ]
          },
          "metadata": {}
        },
        {
          "output_type": "display_data",
          "data": {
            "text/plain": [
              "14718"
            ]
          },
          "metadata": {}
        },
        {
          "output_type": "display_data",
          "data": {
            "text/plain": [
              "3"
            ]
          },
          "metadata": {}
        },
        {
          "output_type": "display_data",
          "data": {
            "text/plain": [
              "674"
            ]
          },
          "metadata": {}
        },
        {
          "output_type": "display_data",
          "data": {
            "text/plain": [
              "109"
            ]
          },
          "metadata": {}
        },
        {
          "output_type": "display_data",
          "data": {
            "text/plain": [
              "394"
            ]
          },
          "metadata": {}
        },
        {
          "output_type": "display_data",
          "data": {
            "text/plain": [
              "938"
            ]
          },
          "metadata": {}
        },
        {
          "output_type": "display_data",
          "data": {
            "text/plain": [
              "47"
            ]
          },
          "metadata": {}
        },
        {
          "output_type": "display_data",
          "data": {
            "text/plain": [
              "366"
            ]
          },
          "metadata": {}
        }
      ]
    },
    {
      "cell_type": "code",
      "metadata": {
        "colab": {
          "base_uri": "https://localhost:8080/"
        },
        "id": "bK-2KQ1llJ9a",
        "outputId": "d85c860b-2e36-4e24-dedd-100715cb1711"
      },
      "source": [
        "len(numerical) #has all except 2 categorical and 1 o/p variable.\n"
      ],
      "execution_count": 33,
      "outputs": [
        {
          "output_type": "execute_result",
          "data": {
            "text/plain": [
              "7"
            ]
          },
          "metadata": {},
          "execution_count": 33
        }
      ]
    },
    {
      "cell_type": "code",
      "metadata": {
        "colab": {
          "base_uri": "https://localhost:8080/"
        },
        "id": "B4ACap3Jk29s",
        "outputId": "5280752f-f33b-4ae8-8238-60c7d667081e"
      },
      "source": [
        "for i in categorical:\n",
        "  print(df[i].unique())"
      ],
      "execution_count": 28,
      "outputs": [
        {
          "output_type": "stream",
          "name": "stdout",
          "text": [
            "['Brooklyn' 'Manhattan' 'Queens' 'Staten Island' 'Bronx']\n",
            "['Private room' 'Entire home/apt' 'Shared room']\n"
          ]
        }
      ]
    },
    {
      "cell_type": "code",
      "metadata": {
        "id": "QzivNirrjK2D"
      },
      "source": [
        "from sklearn.model_selection import train_test_split"
      ],
      "execution_count": 17,
      "outputs": []
    },
    {
      "cell_type": "code",
      "metadata": {
        "id": "A2bD7sfBirf0"
      },
      "source": [
        "X_1, X_test, y_1, y_test = train_test_split(df[numerical + categorical], df['price'], test_size = 0.2, random_state = 1)\n",
        "X_train, X_val, y_train, y_val = train_test_split(X_1, y_1, test_size=0.25, random_state=1)"
      ],
      "execution_count": 36,
      "outputs": []
    },
    {
      "cell_type": "code",
      "metadata": {
        "colab": {
          "base_uri": "https://localhost:8080/"
        },
        "id": "ZG9_Q4xOpPDe",
        "outputId": "ee69f937-3d98-40f7-ce84-938e5f7b89ec"
      },
      "source": [
        "print(len(X_train), len(X_val), len(X_test))\n",
        "print(len(y_train), len(y_val), len(y_test))"
      ],
      "execution_count": 38,
      "outputs": [
        {
          "output_type": "stream",
          "name": "stdout",
          "text": [
            "29337 9779 9779\n",
            "29337 9779 9779\n"
          ]
        }
      ]
    },
    {
      "cell_type": "markdown",
      "metadata": {
        "id": "JBUjMCgVh1nR"
      },
      "source": [
        "Now, use `DictVectorizer` to turn train and validation into matrices:"
      ]
    },
    {
      "cell_type": "code",
      "metadata": {
        "id": "yE4g7Wd2sW3u"
      },
      "source": [
        "from sklearn.feature_extraction import DictVectorizer"
      ],
      "execution_count": 40,
      "outputs": []
    },
    {
      "cell_type": "code",
      "metadata": {
        "colab": {
          "base_uri": "https://localhost:8080/"
        },
        "id": "e5_1JpTW2ED9",
        "outputId": "2d59512d-40f3-4f95-be93-bcb707b87ff8"
      },
      "source": [
        "#y_val.isnull().sum()"
      ],
      "execution_count": 68,
      "outputs": [
        {
          "output_type": "execute_result",
          "data": {
            "text/plain": [
              "0"
            ]
          },
          "metadata": {},
          "execution_count": 68
        }
      ]
    },
    {
      "cell_type": "code",
      "metadata": {
        "id": "SfPoZ-oSh1nR"
      },
      "source": [
        "dict_train = X_train.fillna(0).to_dict(orient=\"records\")\n",
        "dv = DictVectorizer(sparse=False)\n",
        "X_train_encoded = dv.fit_transform(dict_train)"
      ],
      "execution_count": 84,
      "outputs": []
    },
    {
      "cell_type": "code",
      "metadata": {
        "id": "OsdmP6cDxx4Z"
      },
      "source": [
        "dict_val = X_val.fillna(0).to_dict(orient=\"records\")\n",
        "X_val_encoded = dv.transform(dict_val)\n",
        "dict_test = X_test.fillna(0).to_dict(orient=\"records\")\n",
        "X_test_encoded = dv.transform(dict_test)"
      ],
      "execution_count": 85,
      "outputs": []
    },
    {
      "cell_type": "code",
      "metadata": {
        "colab": {
          "base_uri": "https://localhost:8080/"
        },
        "id": "0mFdz-6YyEfM",
        "outputId": "47ff30e9-975f-40c4-c8fe-bb1072ed535f"
      },
      "source": [
        "X_train_encoded.shape"
      ],
      "execution_count": 86,
      "outputs": [
        {
          "output_type": "execute_result",
          "data": {
            "text/plain": [
              "(29337, 15)"
            ]
          },
          "metadata": {},
          "execution_count": 86
        }
      ]
    },
    {
      "cell_type": "code",
      "metadata": {
        "colab": {
          "base_uri": "https://localhost:8080/"
        },
        "id": "hk0dTFlE1WfW",
        "outputId": "352d00d5-254d-4c9a-a25d-4b116af4ce89"
      },
      "source": [
        "X_train_encoded"
      ],
      "execution_count": 78,
      "outputs": [
        {
          "output_type": "execute_result",
          "data": {
            "text/plain": [
              "array([[363.     ,   1.     ,  40.76434, ...,   1.     ,   0.     ,\n",
              "          0.     ],\n",
              "       [  0.     ,   1.     ,  40.73442, ...,   0.     ,   1.     ,\n",
              "          0.     ],\n",
              "       [113.     ,   5.     ,  40.66359, ...,   1.     ,   0.     ,\n",
              "          0.     ],\n",
              "       ...,\n",
              "       [178.     ,   2.     ,  40.69034, ...,   0.     ,   1.     ,\n",
              "          0.     ],\n",
              "       [  0.     ,   1.     ,  40.76324, ...,   1.     ,   0.     ,\n",
              "          0.     ],\n",
              "       [362.     ,  23.     ,  40.74563, ...,   1.     ,   0.     ,\n",
              "          0.     ]])"
            ]
          },
          "metadata": {},
          "execution_count": 78
        }
      ]
    },
    {
      "cell_type": "markdown",
      "metadata": {
        "id": "gf-wAcURh1nS"
      },
      "source": [
        "## Question 1\n",
        "\n",
        "Let's train a decision tree regressor to predict the price variable. \n",
        "\n",
        "* Train a model with `max_depth=1`"
      ]
    },
    {
      "cell_type": "code",
      "metadata": {
        "id": "7ddu7WM3h1nS"
      },
      "source": [
        "from sklearn.tree import DecisionTreeClassifier\n",
        "model_qn1 = DecisionTreeClassifier(max_depth=1)\n"
      ],
      "execution_count": 87,
      "outputs": []
    },
    {
      "cell_type": "code",
      "metadata": {
        "colab": {
          "base_uri": "https://localhost:8080/"
        },
        "id": "JGZcF2Jn2iaj",
        "outputId": "7c04dd10-0f6a-41c5-9a57-1ab04991e81c"
      },
      "source": [
        "y_train.shape\n",
        "X_train_final.shape"
      ],
      "execution_count": 88,
      "outputs": [
        {
          "output_type": "execute_result",
          "data": {
            "text/plain": [
              "(29337, 15)"
            ]
          },
          "metadata": {},
          "execution_count": 88
        }
      ]
    },
    {
      "cell_type": "code",
      "metadata": {
        "colab": {
          "base_uri": "https://localhost:8080/",
          "height": 341
        },
        "id": "hU5ixMTy2eQo",
        "outputId": "abd0f651-01ef-4678-95a6-c10f7c18a69a"
      },
      "source": [
        "model_qn1.fit(X_train_encoded, y_train)\n",
        "# model_qn1.predict_proba(X_val)[:,1]"
      ],
      "execution_count": 89,
      "outputs": [
        {
          "output_type": "error",
          "ename": "ValueError",
          "evalue": "ignored",
          "traceback": [
            "\u001b[0;31m---------------------------------------------------------------------------\u001b[0m",
            "\u001b[0;31mValueError\u001b[0m                                Traceback (most recent call last)",
            "\u001b[0;32m<ipython-input-89-86592b92dc2b>\u001b[0m in \u001b[0;36m<module>\u001b[0;34m()\u001b[0m\n\u001b[0;32m----> 1\u001b[0;31m \u001b[0mmodel_qn1\u001b[0m\u001b[0;34m.\u001b[0m\u001b[0mfit\u001b[0m\u001b[0;34m(\u001b[0m\u001b[0mX_train_encoded\u001b[0m\u001b[0;34m,\u001b[0m \u001b[0my_train\u001b[0m\u001b[0;34m)\u001b[0m\u001b[0;34m\u001b[0m\u001b[0;34m\u001b[0m\u001b[0m\n\u001b[0m\u001b[1;32m      2\u001b[0m \u001b[0;31m# model_qn1.predict_proba(X_val)[:,1]\u001b[0m\u001b[0;34m\u001b[0m\u001b[0;34m\u001b[0m\u001b[0;34m\u001b[0m\u001b[0m\n",
            "\u001b[0;32m/usr/local/lib/python3.7/dist-packages/sklearn/tree/_classes.py\u001b[0m in \u001b[0;36mfit\u001b[0;34m(self, X, y, sample_weight, check_input, X_idx_sorted)\u001b[0m\n\u001b[1;32m    875\u001b[0m             \u001b[0msample_weight\u001b[0m\u001b[0;34m=\u001b[0m\u001b[0msample_weight\u001b[0m\u001b[0;34m,\u001b[0m\u001b[0;34m\u001b[0m\u001b[0;34m\u001b[0m\u001b[0m\n\u001b[1;32m    876\u001b[0m             \u001b[0mcheck_input\u001b[0m\u001b[0;34m=\u001b[0m\u001b[0mcheck_input\u001b[0m\u001b[0;34m,\u001b[0m\u001b[0;34m\u001b[0m\u001b[0;34m\u001b[0m\u001b[0m\n\u001b[0;32m--> 877\u001b[0;31m             X_idx_sorted=X_idx_sorted)\n\u001b[0m\u001b[1;32m    878\u001b[0m         \u001b[0;32mreturn\u001b[0m \u001b[0mself\u001b[0m\u001b[0;34m\u001b[0m\u001b[0;34m\u001b[0m\u001b[0m\n\u001b[1;32m    879\u001b[0m \u001b[0;34m\u001b[0m\u001b[0m\n",
            "\u001b[0;32m/usr/local/lib/python3.7/dist-packages/sklearn/tree/_classes.py\u001b[0m in \u001b[0;36mfit\u001b[0;34m(self, X, y, sample_weight, check_input, X_idx_sorted)\u001b[0m\n\u001b[1;32m    148\u001b[0m         \u001b[0;32mif\u001b[0m \u001b[0mcheck_input\u001b[0m\u001b[0;34m:\u001b[0m\u001b[0;34m\u001b[0m\u001b[0;34m\u001b[0m\u001b[0m\n\u001b[1;32m    149\u001b[0m             \u001b[0mX\u001b[0m \u001b[0;34m=\u001b[0m \u001b[0mcheck_array\u001b[0m\u001b[0;34m(\u001b[0m\u001b[0mX\u001b[0m\u001b[0;34m,\u001b[0m \u001b[0mdtype\u001b[0m\u001b[0;34m=\u001b[0m\u001b[0mDTYPE\u001b[0m\u001b[0;34m,\u001b[0m \u001b[0maccept_sparse\u001b[0m\u001b[0;34m=\u001b[0m\u001b[0;34m\"csc\"\u001b[0m\u001b[0;34m)\u001b[0m\u001b[0;34m\u001b[0m\u001b[0;34m\u001b[0m\u001b[0m\n\u001b[0;32m--> 150\u001b[0;31m             \u001b[0my\u001b[0m \u001b[0;34m=\u001b[0m \u001b[0mcheck_array\u001b[0m\u001b[0;34m(\u001b[0m\u001b[0my\u001b[0m\u001b[0;34m,\u001b[0m \u001b[0mensure_2d\u001b[0m\u001b[0;34m=\u001b[0m\u001b[0;32mFalse\u001b[0m\u001b[0;34m,\u001b[0m \u001b[0mdtype\u001b[0m\u001b[0;34m=\u001b[0m\u001b[0;32mNone\u001b[0m\u001b[0;34m)\u001b[0m\u001b[0;34m\u001b[0m\u001b[0;34m\u001b[0m\u001b[0m\n\u001b[0m\u001b[1;32m    151\u001b[0m             \u001b[0;32mif\u001b[0m \u001b[0missparse\u001b[0m\u001b[0;34m(\u001b[0m\u001b[0mX\u001b[0m\u001b[0;34m)\u001b[0m\u001b[0;34m:\u001b[0m\u001b[0;34m\u001b[0m\u001b[0;34m\u001b[0m\u001b[0m\n\u001b[1;32m    152\u001b[0m                 \u001b[0mX\u001b[0m\u001b[0;34m.\u001b[0m\u001b[0msort_indices\u001b[0m\u001b[0;34m(\u001b[0m\u001b[0;34m)\u001b[0m\u001b[0;34m\u001b[0m\u001b[0;34m\u001b[0m\u001b[0m\n",
            "\u001b[0;32m/usr/local/lib/python3.7/dist-packages/sklearn/utils/validation.py\u001b[0m in \u001b[0;36mcheck_array\u001b[0;34m(array, accept_sparse, accept_large_sparse, dtype, order, copy, force_all_finite, ensure_2d, allow_nd, ensure_min_samples, ensure_min_features, warn_on_dtype, estimator)\u001b[0m\n\u001b[1;32m    576\u001b[0m         \u001b[0;32mif\u001b[0m \u001b[0mforce_all_finite\u001b[0m\u001b[0;34m:\u001b[0m\u001b[0;34m\u001b[0m\u001b[0;34m\u001b[0m\u001b[0m\n\u001b[1;32m    577\u001b[0m             _assert_all_finite(array,\n\u001b[0;32m--> 578\u001b[0;31m                                allow_nan=force_all_finite == 'allow-nan')\n\u001b[0m\u001b[1;32m    579\u001b[0m \u001b[0;34m\u001b[0m\u001b[0m\n\u001b[1;32m    580\u001b[0m     \u001b[0;32mif\u001b[0m \u001b[0mensure_min_samples\u001b[0m \u001b[0;34m>\u001b[0m \u001b[0;36m0\u001b[0m\u001b[0;34m:\u001b[0m\u001b[0;34m\u001b[0m\u001b[0;34m\u001b[0m\u001b[0m\n",
            "\u001b[0;32m/usr/local/lib/python3.7/dist-packages/sklearn/utils/validation.py\u001b[0m in \u001b[0;36m_assert_all_finite\u001b[0;34m(X, allow_nan, msg_dtype)\u001b[0m\n\u001b[1;32m     58\u001b[0m                     \u001b[0mmsg_err\u001b[0m\u001b[0;34m.\u001b[0m\u001b[0mformat\u001b[0m\u001b[0;34m\u001b[0m\u001b[0;34m\u001b[0m\u001b[0m\n\u001b[1;32m     59\u001b[0m                     (type_err,\n\u001b[0;32m---> 60\u001b[0;31m                      msg_dtype if msg_dtype is not None else X.dtype)\n\u001b[0m\u001b[1;32m     61\u001b[0m             )\n\u001b[1;32m     62\u001b[0m     \u001b[0;31m# for object dtype data, we only check for NaNs (GH-13254)\u001b[0m\u001b[0;34m\u001b[0m\u001b[0;34m\u001b[0m\u001b[0;34m\u001b[0m\u001b[0m\n",
            "\u001b[0;31mValueError\u001b[0m: Input contains NaN, infinity or a value too large for dtype('float64')."
          ]
        }
      ]
    },
    {
      "cell_type": "code",
      "metadata": {
        "id": "LaDpuvab1KKQ"
      },
      "source": [
        ""
      ],
      "execution_count": null,
      "outputs": []
    },
    {
      "cell_type": "markdown",
      "metadata": {
        "id": "WjhDvKJuh1nT"
      },
      "source": [
        "Which feature is used for splitting the data?\n",
        "\n",
        "* `room_type`\n",
        "* `neighbourhood_group`\n",
        "* `number_of_reviews`\n",
        "* `reviews_per_month`"
      ]
    },
    {
      "cell_type": "markdown",
      "metadata": {
        "id": "xDfZX4YDh1nT"
      },
      "source": [
        "## Question 2\n",
        "\n",
        "Train a random forest model with these parameters:\n",
        "\n",
        "* `n_estimators=10`\n",
        "* `random_state=1`\n",
        "* `n_jobs=-1`  (optional - to make training faster)"
      ]
    },
    {
      "cell_type": "code",
      "metadata": {
        "id": "34b65_g-h1nT"
      },
      "source": [
        "from sklearn.ensemble import RandomForestClassifier"
      ],
      "execution_count": 81,
      "outputs": []
    },
    {
      "cell_type": "code",
      "metadata": {
        "colab": {
          "base_uri": "https://localhost:8080/",
          "height": 341
        },
        "id": "uAr10AJ83hZY",
        "outputId": "8c64c16b-1b59-4f63-a759-eba33a0b74a6"
      },
      "source": [
        "model_qn_2 = RandomForestClassifier(n_estimators=10, random_state=1, n_jobs=-1)\n",
        "model_qn_2.fit(X_train_encoded, y_train)"
      ],
      "execution_count": 82,
      "outputs": [
        {
          "output_type": "error",
          "ename": "ValueError",
          "evalue": "ignored",
          "traceback": [
            "\u001b[0;31m---------------------------------------------------------------------------\u001b[0m",
            "\u001b[0;31mValueError\u001b[0m                                Traceback (most recent call last)",
            "\u001b[0;32m<ipython-input-82-9f1dbbd306d1>\u001b[0m in \u001b[0;36m<module>\u001b[0;34m()\u001b[0m\n\u001b[1;32m      1\u001b[0m \u001b[0mmodel_qn_2\u001b[0m \u001b[0;34m=\u001b[0m \u001b[0mRandomForestClassifier\u001b[0m\u001b[0;34m(\u001b[0m\u001b[0mn_estimators\u001b[0m\u001b[0;34m=\u001b[0m\u001b[0;36m10\u001b[0m\u001b[0;34m,\u001b[0m \u001b[0mrandom_state\u001b[0m\u001b[0;34m=\u001b[0m\u001b[0;36m1\u001b[0m\u001b[0;34m,\u001b[0m \u001b[0mn_jobs\u001b[0m\u001b[0;34m=\u001b[0m\u001b[0;34m-\u001b[0m\u001b[0;36m1\u001b[0m\u001b[0;34m)\u001b[0m\u001b[0;34m\u001b[0m\u001b[0;34m\u001b[0m\u001b[0m\n\u001b[0;32m----> 2\u001b[0;31m \u001b[0mmodel_qn_2\u001b[0m\u001b[0;34m.\u001b[0m\u001b[0mfit\u001b[0m\u001b[0;34m(\u001b[0m\u001b[0mX_train_encoded\u001b[0m\u001b[0;34m,\u001b[0m \u001b[0my_train\u001b[0m\u001b[0;34m)\u001b[0m\u001b[0;34m\u001b[0m\u001b[0;34m\u001b[0m\u001b[0m\n\u001b[0m",
            "\u001b[0;32m/usr/local/lib/python3.7/dist-packages/sklearn/ensemble/_forest.py\u001b[0m in \u001b[0;36mfit\u001b[0;34m(self, X, y, sample_weight)\u001b[0m\n\u001b[1;32m    294\u001b[0m         \u001b[0;31m# Validate or convert input data\u001b[0m\u001b[0;34m\u001b[0m\u001b[0;34m\u001b[0m\u001b[0;34m\u001b[0m\u001b[0m\n\u001b[1;32m    295\u001b[0m         \u001b[0mX\u001b[0m \u001b[0;34m=\u001b[0m \u001b[0mcheck_array\u001b[0m\u001b[0;34m(\u001b[0m\u001b[0mX\u001b[0m\u001b[0;34m,\u001b[0m \u001b[0maccept_sparse\u001b[0m\u001b[0;34m=\u001b[0m\u001b[0;34m\"csc\"\u001b[0m\u001b[0;34m,\u001b[0m \u001b[0mdtype\u001b[0m\u001b[0;34m=\u001b[0m\u001b[0mDTYPE\u001b[0m\u001b[0;34m)\u001b[0m\u001b[0;34m\u001b[0m\u001b[0;34m\u001b[0m\u001b[0m\n\u001b[0;32m--> 296\u001b[0;31m         \u001b[0my\u001b[0m \u001b[0;34m=\u001b[0m \u001b[0mcheck_array\u001b[0m\u001b[0;34m(\u001b[0m\u001b[0my\u001b[0m\u001b[0;34m,\u001b[0m \u001b[0maccept_sparse\u001b[0m\u001b[0;34m=\u001b[0m\u001b[0;34m'csc'\u001b[0m\u001b[0;34m,\u001b[0m \u001b[0mensure_2d\u001b[0m\u001b[0;34m=\u001b[0m\u001b[0;32mFalse\u001b[0m\u001b[0;34m,\u001b[0m \u001b[0mdtype\u001b[0m\u001b[0;34m=\u001b[0m\u001b[0;32mNone\u001b[0m\u001b[0;34m)\u001b[0m\u001b[0;34m\u001b[0m\u001b[0;34m\u001b[0m\u001b[0m\n\u001b[0m\u001b[1;32m    297\u001b[0m         \u001b[0;32mif\u001b[0m \u001b[0msample_weight\u001b[0m \u001b[0;32mis\u001b[0m \u001b[0;32mnot\u001b[0m \u001b[0;32mNone\u001b[0m\u001b[0;34m:\u001b[0m\u001b[0;34m\u001b[0m\u001b[0;34m\u001b[0m\u001b[0m\n\u001b[1;32m    298\u001b[0m             \u001b[0msample_weight\u001b[0m \u001b[0;34m=\u001b[0m \u001b[0m_check_sample_weight\u001b[0m\u001b[0;34m(\u001b[0m\u001b[0msample_weight\u001b[0m\u001b[0;34m,\u001b[0m \u001b[0mX\u001b[0m\u001b[0;34m)\u001b[0m\u001b[0;34m\u001b[0m\u001b[0;34m\u001b[0m\u001b[0m\n",
            "\u001b[0;32m/usr/local/lib/python3.7/dist-packages/sklearn/utils/validation.py\u001b[0m in \u001b[0;36mcheck_array\u001b[0;34m(array, accept_sparse, accept_large_sparse, dtype, order, copy, force_all_finite, ensure_2d, allow_nd, ensure_min_samples, ensure_min_features, warn_on_dtype, estimator)\u001b[0m\n\u001b[1;32m    576\u001b[0m         \u001b[0;32mif\u001b[0m \u001b[0mforce_all_finite\u001b[0m\u001b[0;34m:\u001b[0m\u001b[0;34m\u001b[0m\u001b[0;34m\u001b[0m\u001b[0m\n\u001b[1;32m    577\u001b[0m             _assert_all_finite(array,\n\u001b[0;32m--> 578\u001b[0;31m                                allow_nan=force_all_finite == 'allow-nan')\n\u001b[0m\u001b[1;32m    579\u001b[0m \u001b[0;34m\u001b[0m\u001b[0m\n\u001b[1;32m    580\u001b[0m     \u001b[0;32mif\u001b[0m \u001b[0mensure_min_samples\u001b[0m \u001b[0;34m>\u001b[0m \u001b[0;36m0\u001b[0m\u001b[0;34m:\u001b[0m\u001b[0;34m\u001b[0m\u001b[0;34m\u001b[0m\u001b[0m\n",
            "\u001b[0;32m/usr/local/lib/python3.7/dist-packages/sklearn/utils/validation.py\u001b[0m in \u001b[0;36m_assert_all_finite\u001b[0;34m(X, allow_nan, msg_dtype)\u001b[0m\n\u001b[1;32m     58\u001b[0m                     \u001b[0mmsg_err\u001b[0m\u001b[0;34m.\u001b[0m\u001b[0mformat\u001b[0m\u001b[0;34m\u001b[0m\u001b[0;34m\u001b[0m\u001b[0m\n\u001b[1;32m     59\u001b[0m                     (type_err,\n\u001b[0;32m---> 60\u001b[0;31m                      msg_dtype if msg_dtype is not None else X.dtype)\n\u001b[0m\u001b[1;32m     61\u001b[0m             )\n\u001b[1;32m     62\u001b[0m     \u001b[0;31m# for object dtype data, we only check for NaNs (GH-13254)\u001b[0m\u001b[0;34m\u001b[0m\u001b[0;34m\u001b[0m\u001b[0;34m\u001b[0m\u001b[0m\n",
            "\u001b[0;31mValueError\u001b[0m: Input contains NaN, infinity or a value too large for dtype('float64')."
          ]
        }
      ]
    },
    {
      "cell_type": "code",
      "metadata": {
        "id": "qTbvJuIK3xgZ"
      },
      "source": [
        ""
      ],
      "execution_count": null,
      "outputs": []
    },
    {
      "cell_type": "markdown",
      "metadata": {
        "id": "oPjfcKx7h1nU"
      },
      "source": [
        "What's the RMSE of this model on validation?\n",
        "\n",
        "* 0.059\n",
        "* 0.259\n",
        "* 0.459\n",
        "* 0.659"
      ]
    },
    {
      "cell_type": "markdown",
      "metadata": {
        "id": "_5xqC_37h1nU"
      },
      "source": [
        "## Question 3\n",
        "\n",
        "Now let's experiment with the `n_estimators` parameter\n",
        "\n",
        "* Try different values of this parameter from 10 to 200 with step 10\n",
        "* Set `random_state` to `1`\n",
        "* Evaluate the model on the validation dataset"
      ]
    },
    {
      "cell_type": "code",
      "metadata": {
        "id": "3NB2o4neh1nU"
      },
      "source": [
        ""
      ],
      "execution_count": null,
      "outputs": []
    },
    {
      "cell_type": "markdown",
      "metadata": {
        "id": "3RQbYjT6h1nU"
      },
      "source": [
        "After which value of `n_estimators` does RMSE stop improving?\n",
        "\n",
        "- 10\n",
        "- 50\n",
        "- 70\n",
        "- 120"
      ]
    },
    {
      "cell_type": "markdown",
      "metadata": {
        "id": "mZGk6WC-h1nV"
      },
      "source": [
        "## Question 4\n",
        "\n",
        "Let's select the best `max_depth`:\n",
        "\n",
        "* Try different values of `max_depth`: `[10, 15, 20, 25]`\n",
        "* For each of these values, try different values of `n_estimators` from 10 till 200 (with step 10)\n",
        "* Fix the random seed: `random_state=1`"
      ]
    },
    {
      "cell_type": "code",
      "metadata": {
        "id": "rLLlz0ubh1nV"
      },
      "source": [
        ""
      ],
      "execution_count": null,
      "outputs": []
    },
    {
      "cell_type": "markdown",
      "metadata": {
        "id": "kP6h0q_ih1nV"
      },
      "source": [
        "What's the best `max_depth`:\n",
        "\n",
        "* 10\n",
        "* 15\n",
        "* 20\n",
        "* 25\n",
        "\n",
        "Bonus question (not graded):\n",
        "\n",
        "Will the answer be different if we change the seed for the model?"
      ]
    },
    {
      "cell_type": "markdown",
      "metadata": {
        "id": "AoSBvwPHh1nV"
      },
      "source": [
        "## Question 5\n",
        "\n",
        "We can extract feature importance information from tree-based models. \n",
        "\n",
        "At each step of the decision tree learning algorith, it finds the best split. \n",
        "When doint it, we can calculate \"gain\" - the reduction in impurity before and after the split. \n",
        "This gain is quite useful in understanding what are the imporatant features \n",
        "for tree-based models.\n",
        "\n",
        "In Scikit-Learn, tree-based models contain this information in the `feature_importances_` field. \n",
        "\n",
        "For this homework question, we'll find the most important feature:\n",
        "\n",
        "* Train the model with these parametes:\n",
        "    * `n_estimators=10`,\n",
        "    * `max_depth=20`,\n",
        "    * `random_state=1`,\n",
        "    * `n_jobs=-1` (optional)\n",
        "* Get the feature importance information from this model"
      ]
    },
    {
      "cell_type": "code",
      "metadata": {
        "id": "6hh04TCuh1nW"
      },
      "source": [
        ""
      ],
      "execution_count": null,
      "outputs": []
    },
    {
      "cell_type": "markdown",
      "metadata": {
        "id": "1_WWfMSXh1nW"
      },
      "source": [
        "What's the most important feature? \n",
        "\n",
        "* `neighbourhood_group=Manhattan`\n",
        "* `room_type=Entire home/apt`\t\n",
        "* `longitude`\n",
        "* `latitude`"
      ]
    },
    {
      "cell_type": "markdown",
      "metadata": {
        "id": "od637nORh1nW"
      },
      "source": [
        "## Question 6"
      ]
    },
    {
      "cell_type": "markdown",
      "metadata": {
        "id": "LUnjd_pnh1nW"
      },
      "source": [
        "Now let's train an XGBoost model! For this question, we'll tune the `eta` parameter\n",
        "\n",
        "* Install XGBoost\n",
        "* Create DMatrix for train and validation\n",
        "* Create a watchlist\n",
        "* Train a model with these parameters for 100 rounds:\n",
        "\n",
        "```\n",
        "xgb_params = {\n",
        "    'eta': 0.3, \n",
        "    'max_depth': 6,\n",
        "    'min_child_weight': 1,\n",
        "    \n",
        "    'objective': 'reg:squarederror',\n",
        "    'nthread': 8,\n",
        "    \n",
        "    'seed': 1,\n",
        "    'verbosity': 1,\n",
        "}\n",
        "```"
      ]
    },
    {
      "cell_type": "code",
      "metadata": {
        "id": "sXlyPCThh1nX"
      },
      "source": [
        ""
      ],
      "execution_count": null,
      "outputs": []
    },
    {
      "cell_type": "markdown",
      "metadata": {
        "id": "0J7PP0mbh1nX"
      },
      "source": [
        "Now change `eta` first to `0.1` and then to `0.01`"
      ]
    },
    {
      "cell_type": "code",
      "metadata": {
        "id": "4gU7T118h1nX"
      },
      "source": [
        ""
      ],
      "execution_count": null,
      "outputs": []
    },
    {
      "cell_type": "markdown",
      "metadata": {
        "id": "yot9MENmh1nX"
      },
      "source": [
        "Which eta leads to the best RMSE score on the validation dataset?\n",
        "\n",
        "* 0.3\n",
        "* 0.1\n",
        "* 0.01"
      ]
    },
    {
      "cell_type": "markdown",
      "metadata": {
        "id": "im5Xa6V2h1nX"
      },
      "source": [
        "## Submit the results\n",
        "\n",
        "\n",
        "Submit your results here: https://forms.gle/wQgFkYE6CtdDed4w8\n",
        "\n",
        "It's possible that your answers won't match exactly. If it's the case, select the closest one.\n",
        "\n",
        "\n",
        "## Deadline\n",
        "\n",
        "\n",
        "The deadline for submitting is 20 October 2021, 17:00 CET (Wednesday). After that, the form will be closed.\n",
        "\n"
      ]
    }
  ]
}