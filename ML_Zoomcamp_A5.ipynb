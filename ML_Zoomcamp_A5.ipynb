{
  "nbformat": 4,
  "nbformat_minor": 0,
  "metadata": {
    "colab": {
      "name": "ML_Zoomcamp_A5.ipynb",
      "provenance": [],
      "collapsed_sections": [],
      "authorship_tag": "ABX9TyMMFrMsCKSuKD+5TJQzOzhd",
      "include_colab_link": true
    },
    "kernelspec": {
      "name": "python3",
      "display_name": "Python 3"
    },
    "language_info": {
      "name": "python"
    }
  },
  "cells": [
    {
      "cell_type": "markdown",
      "metadata": {
        "id": "view-in-github",
        "colab_type": "text"
      },
      "source": [
        "<a href=\"https://colab.research.google.com/github/depknaraynscientist/Data_Science/blob/main/ML_Zoomcamp_A5.ipynb\" target=\"_parent\"><img src=\"https://colab.research.google.com/assets/colab-badge.svg\" alt=\"Open In Colab\"/></a>"
      ]
    },
    {
      "cell_type": "code",
      "metadata": {
        "colab": {
          "base_uri": "https://localhost:8080/"
        },
        "id": "lYMIZ6Pnm1k3",
        "outputId": "9124f324-782a-487f-d167-e1f0fea4e23d"
      },
      "source": [
        "pip install pipenv"
      ],
      "execution_count": null,
      "outputs": [
        {
          "output_type": "stream",
          "name": "stdout",
          "text": [
            "Collecting pipenv\n",
            "  Downloading pipenv-2021.5.29-py2.py3-none-any.whl (3.9 MB)\n",
            "\u001b[K     |████████████████████████████████| 3.9 MB 25.8 MB/s \n",
            "\u001b[?25hRequirement already satisfied: pip>=18.0 in /usr/local/lib/python3.7/dist-packages (from pipenv) (21.1.3)\n",
            "Collecting virtualenv-clone>=0.2.5\n",
            "  Downloading virtualenv_clone-0.5.7-py3-none-any.whl (6.6 kB)\n",
            "Collecting virtualenv\n",
            "  Downloading virtualenv-20.8.1-py2.py3-none-any.whl (5.3 MB)\n",
            "\u001b[K     |████████████████████████████████| 5.3 MB 38.5 MB/s \n",
            "\u001b[?25hRequirement already satisfied: certifi in /usr/local/lib/python3.7/dist-packages (from pipenv) (2021.5.30)\n",
            "Requirement already satisfied: setuptools>=36.2.1 in /usr/local/lib/python3.7/dist-packages (from pipenv) (57.4.0)\n",
            "Requirement already satisfied: filelock<4,>=3.0.0 in /usr/local/lib/python3.7/dist-packages (from virtualenv->pipenv) (3.3.0)\n",
            "Collecting distlib<1,>=0.3.1\n",
            "  Downloading distlib-0.3.3-py2.py3-none-any.whl (496 kB)\n",
            "\u001b[K     |████████████████████████████████| 496 kB 65.6 MB/s \n",
            "\u001b[?25hCollecting platformdirs<3,>=2\n",
            "  Downloading platformdirs-2.4.0-py3-none-any.whl (14 kB)\n",
            "Requirement already satisfied: six<2,>=1.9.0 in /usr/local/lib/python3.7/dist-packages (from virtualenv->pipenv) (1.15.0)\n",
            "Collecting backports.entry-points-selectable>=1.0.4\n",
            "  Downloading backports.entry_points_selectable-1.1.0-py2.py3-none-any.whl (6.2 kB)\n",
            "Requirement already satisfied: importlib-metadata>=0.12 in /usr/local/lib/python3.7/dist-packages (from virtualenv->pipenv) (4.8.1)\n",
            "Requirement already satisfied: zipp>=0.5 in /usr/local/lib/python3.7/dist-packages (from importlib-metadata>=0.12->virtualenv->pipenv) (3.6.0)\n",
            "Requirement already satisfied: typing-extensions>=3.6.4 in /usr/local/lib/python3.7/dist-packages (from importlib-metadata>=0.12->virtualenv->pipenv) (3.7.4.3)\n",
            "Installing collected packages: platformdirs, distlib, backports.entry-points-selectable, virtualenv-clone, virtualenv, pipenv\n",
            "Successfully installed backports.entry-points-selectable-1.1.0 distlib-0.3.3 pipenv-2021.5.29 platformdirs-2.4.0 virtualenv-20.8.1 virtualenv-clone-0.5.7\n"
          ]
        }
      ]
    },
    {
      "cell_type": "code",
      "metadata": {
        "colab": {
          "base_uri": "https://localhost:8080/"
        },
        "id": "7eepZ2iSnO36",
        "outputId": "34fa99a8-e265-4c1b-c2c7-5a4c6d65f9ff"
      },
      "source": [
        "!pipenv --version"
      ],
      "execution_count": null,
      "outputs": [
        {
          "output_type": "stream",
          "name": "stdout",
          "text": [
            "\u001b[39m\u001b[1mpipenv\u001b[39m\u001b[22m, version 2021.5.29\n",
            "\u001b[0m"
          ]
        }
      ]
    },
    {
      "cell_type": "code",
      "metadata": {
        "colab": {
          "base_uri": "https://localhost:8080/"
        },
        "id": "ZNnmtXIcnRW4",
        "outputId": "6096365e-ddc8-4034-90db-df548bb12622"
      },
      "source": [
        "!pipenv install scikit-learn==v1.0"
      ],
      "execution_count": null,
      "outputs": [
        {
          "output_type": "stream",
          "name": "stdout",
          "text": [
            "\u001b[39m\u001b[1mCreating a virtualenv for this project...\u001b[39m\u001b[22m\n",
            "Pipfile: \u001b[33m\u001b[1m/content/Pipfile\u001b[39m\u001b[22m\n",
            "\u001b[39m\u001b[1mUsing\u001b[39m\u001b[22m \u001b[33m\u001b[1m/usr/bin/python3.7m\u001b[39m\u001b[22m \u001b[32m\u001b[22m(3.7.12)\u001b[39m\u001b[22m \u001b[39m\u001b[1mto create virtualenv...\u001b[39m\u001b[22m\n",
            "⠼\u001b[0m Creating virtual environment...\u001b[K\u001b[36m\u001b[22mcreated virtual environment CPython3.7.12.final.0-64 in 939ms\n",
            "  creator CPython3Posix(dest=/root/.local/share/virtualenvs/content-cQIIIOO2, clear=False, no_vcs_ignore=False, global=False)\n",
            "  seeder FromAppData(download=False, pip=bundle, setuptools=bundle, wheel=bundle, via=copy, app_data_dir=/root/.local/share/virtualenv)\n",
            "    added seed packages: pip==21.2.4, setuptools==58.1.0, wheel==0.37.0\n",
            "  activators BashActivator,CShellActivator,FishActivator,NushellActivator,PowerShellActivator,PythonActivator\n",
            "\u001b[39m\u001b[22m\n",
            "\u001b[K\u001b[?25h\u001b[32m\u001b[22m✔ Successfully created virtual environment!\u001b[39m\u001b[22m\u001b[0m \n",
            "Virtualenv location: \u001b[32m\u001b[22m/root/.local/share/virtualenvs/content-cQIIIOO2\u001b[39m\u001b[22m\n",
            "\u001b[39m\u001b[1mCreating a Pipfile for this project...\u001b[39m\u001b[22m\n",
            "\u001b[39m\u001b[1mInstalling \u001b[32m\u001b[1mscikit-learn==v1.0\u001b[39m\u001b[22m...\u001b[39m\u001b[22m\n",
            "\u001b[K\u001b[39m\u001b[1mAdding\u001b[39m\u001b[22m \u001b[32m\u001b[1mscikit-learn\u001b[39m\u001b[22m \u001b[39m\u001b[1mto Pipfile's\u001b[39m\u001b[22m \u001b[33m\u001b[1m[packages]\u001b[39m\u001b[22m\u001b[39m\u001b[1m...\u001b[39m\u001b[22m\n",
            "\u001b[K\u001b[?25h✔ Installation Succeeded\u001b[0m \n",
            "\u001b[39m\u001b[1mPipfile.lock not found, creating...\u001b[39m\u001b[22m\n",
            "\u001b[39m\u001b[22mLocking\u001b[39m\u001b[22m \u001b[33m\u001b[22m[dev-packages]\u001b[39m\u001b[22m \u001b[39m\u001b[22mdependencies...\u001b[39m\u001b[22m\n",
            "\u001b[39m\u001b[22mLocking\u001b[39m\u001b[22m \u001b[33m\u001b[22m[packages]\u001b[39m\u001b[22m \u001b[39m\u001b[22mdependencies...\u001b[39m\u001b[22m\n",
            "\u001b[K\u001b[KBuilding requirements...\n",
            "\u001b[KResolving dependencies...\n",
            "\u001b[K\u001b[?25h\u001b[32m\u001b[22m✔ Success!\u001b[39m\u001b[22m\u001b[0m \n",
            "\u001b[39m\u001b[1mUpdated Pipfile.lock (e14961)!\u001b[39m\u001b[22m\n",
            "\u001b[39m\u001b[1mInstalling dependencies from Pipfile.lock (e14961)...\u001b[39m\u001b[22m\n",
            "  🐍   \u001b[32m\u001b[1m▉\u001b[39m\u001b[22m\u001b[32m\u001b[1m▉\u001b[39m\u001b[22m\u001b[32m\u001b[1m▉\u001b[39m\u001b[22m\u001b[32m\u001b[1m▉\u001b[39m\u001b[22m\u001b[32m\u001b[1m▉\u001b[39m\u001b[22m\u001b[32m\u001b[1m▉\u001b[39m\u001b[22m\u001b[32m\u001b[1m▉\u001b[39m\u001b[22m\u001b[32m\u001b[1m▉\u001b[39m\u001b[22m\u001b[32m\u001b[1m▉\u001b[39m\u001b[22m\u001b[32m\u001b[1m▉\u001b[39m\u001b[22m\u001b[32m\u001b[1m▉\u001b[39m\u001b[22m\u001b[32m\u001b[1m▉\u001b[39m\u001b[22m\u001b[32m\u001b[1m▉\u001b[39m\u001b[22m\u001b[32m\u001b[1m▉\u001b[39m\u001b[22m\u001b[32m\u001b[1m▉\u001b[39m\u001b[22m\u001b[32m\u001b[1m▉\u001b[39m\u001b[22m\u001b[32m\u001b[1m▉\u001b[39m\u001b[22m\u001b[32m\u001b[1m▉\u001b[39m\u001b[22m\u001b[32m\u001b[1m▉\u001b[39m\u001b[22m\u001b[32m\u001b[1m▉\u001b[39m\u001b[22m\u001b[32m\u001b[1m▉\u001b[39m\u001b[22m\u001b[32m\u001b[1m▉\u001b[39m\u001b[22m\u001b[32m\u001b[1m▉\u001b[39m\u001b[22m\u001b[32m\u001b[1m▉\u001b[39m\u001b[22m\u001b[32m\u001b[1m▉\u001b[39m\u001b[22m\u001b[32m\u001b[1m▉\u001b[39m\u001b[22m\u001b[32m\u001b[1m▉\u001b[39m\u001b[22m\u001b[32m\u001b[1m▉\u001b[39m\u001b[22m\u001b[32m\u001b[1m▉\u001b[39m\u001b[22m\u001b[32m\u001b[1m▉\u001b[39m\u001b[22m\u001b[32m\u001b[1m▉\u001b[39m\u001b[22m\u001b[32m\u001b[1m▉\u001b[39m\u001b[22m 0/0 — \u001b[30m\u001b[22m00:00:00\u001b[39m\u001b[22m\n",
            "To activate this project's virtualenv, run \u001b[33m\u001b[22mpipenv shell\u001b[39m\u001b[22m.\n",
            "Alternatively, run a command inside the virtualenv with \u001b[33m\u001b[22mpipenv run\u001b[39m\u001b[22m.\n",
            "\u001b[0m"
          ]
        }
      ]
    },
    {
      "cell_type": "code",
      "metadata": {
        "colab": {
          "base_uri": "https://localhost:8080/"
        },
        "id": "JSaeWAwNnX45",
        "outputId": "a730c681-677d-4d8e-dd37-b3e720112f24"
      },
      "source": [
        "!pipenv install flask"
      ],
      "execution_count": null,
      "outputs": [
        {
          "output_type": "stream",
          "name": "stdout",
          "text": [
            "\u001b[39m\u001b[1mInstalling \u001b[32m\u001b[1mflask\u001b[39m\u001b[22m...\u001b[39m\u001b[22m\n",
            "\u001b[K\u001b[39m\u001b[1mAdding\u001b[39m\u001b[22m \u001b[32m\u001b[1mflask\u001b[39m\u001b[22m \u001b[39m\u001b[1mto Pipfile's\u001b[39m\u001b[22m \u001b[33m\u001b[1m[packages]\u001b[39m\u001b[22m\u001b[39m\u001b[1m...\u001b[39m\u001b[22m\n",
            "\u001b[K\u001b[?25h✔ Installation Succeeded\u001b[0m \n",
            "\u001b[33m\u001b[1mPipfile.lock (e14961) out of date, updating to (bfb61f)...\u001b[39m\u001b[22m\n",
            "\u001b[39m\u001b[22mLocking\u001b[39m\u001b[22m \u001b[33m\u001b[22m[dev-packages]\u001b[39m\u001b[22m \u001b[39m\u001b[22mdependencies...\u001b[39m\u001b[22m\n",
            "\u001b[39m\u001b[22mLocking\u001b[39m\u001b[22m \u001b[33m\u001b[22m[packages]\u001b[39m\u001b[22m \u001b[39m\u001b[22mdependencies...\u001b[39m\u001b[22m\n",
            "\u001b[KBuilding requirements...\n",
            "\u001b[KResolving dependencies...\n",
            "\u001b[K\u001b[?25h\u001b[32m\u001b[22m✔ Success!\u001b[39m\u001b[22m\u001b[0m \n",
            "\u001b[39m\u001b[1mUpdated Pipfile.lock (bfb61f)!\u001b[39m\u001b[22m\n",
            "\u001b[39m\u001b[1mInstalling dependencies from Pipfile.lock (bfb61f)...\u001b[39m\u001b[22m\n",
            "  🐍   \u001b[32m\u001b[1m▉\u001b[39m\u001b[22m\u001b[32m\u001b[1m▉\u001b[39m\u001b[22m\u001b[32m\u001b[1m▉\u001b[39m\u001b[22m\u001b[32m\u001b[1m▉\u001b[39m\u001b[22m\u001b[32m\u001b[1m▉\u001b[39m\u001b[22m\u001b[32m\u001b[1m▉\u001b[39m\u001b[22m\u001b[32m\u001b[1m▉\u001b[39m\u001b[22m\u001b[32m\u001b[1m▉\u001b[39m\u001b[22m\u001b[32m\u001b[1m▉\u001b[39m\u001b[22m\u001b[32m\u001b[1m▉\u001b[39m\u001b[22m\u001b[32m\u001b[1m▉\u001b[39m\u001b[22m\u001b[32m\u001b[1m▉\u001b[39m\u001b[22m\u001b[32m\u001b[1m▉\u001b[39m\u001b[22m\u001b[32m\u001b[1m▉\u001b[39m\u001b[22m\u001b[32m\u001b[1m▉\u001b[39m\u001b[22m\u001b[32m\u001b[1m▉\u001b[39m\u001b[22m\u001b[32m\u001b[1m▉\u001b[39m\u001b[22m\u001b[32m\u001b[1m▉\u001b[39m\u001b[22m\u001b[32m\u001b[1m▉\u001b[39m\u001b[22m\u001b[32m\u001b[1m▉\u001b[39m\u001b[22m\u001b[32m\u001b[1m▉\u001b[39m\u001b[22m\u001b[32m\u001b[1m▉\u001b[39m\u001b[22m\u001b[32m\u001b[1m▉\u001b[39m\u001b[22m\u001b[32m\u001b[1m▉\u001b[39m\u001b[22m\u001b[32m\u001b[1m▉\u001b[39m\u001b[22m\u001b[32m\u001b[1m▉\u001b[39m\u001b[22m\u001b[32m\u001b[1m▉\u001b[39m\u001b[22m\u001b[32m\u001b[1m▉\u001b[39m\u001b[22m\u001b[32m\u001b[1m▉\u001b[39m\u001b[22m\u001b[32m\u001b[1m▉\u001b[39m\u001b[22m\u001b[32m\u001b[1m▉\u001b[39m\u001b[22m\u001b[32m\u001b[1m▉\u001b[39m\u001b[22m 0/0 — \u001b[30m\u001b[22m00:00:00\u001b[39m\u001b[22m\n",
            "To activate this project's virtualenv, run \u001b[33m\u001b[22mpipenv shell\u001b[39m\u001b[22m.\n",
            "Alternatively, run a command inside the virtualenv with \u001b[33m\u001b[22mpipenv run\u001b[39m\u001b[22m.\n",
            "\u001b[0m"
          ]
        }
      ]
    },
    {
      "cell_type": "code",
      "metadata": {
        "colab": {
          "base_uri": "https://localhost:8080/"
        },
        "id": "CC2-wokanwQ8",
        "outputId": "6b5ecf47-be2b-47a6-d5f4-b6b55e875a5b"
      },
      "source": [
        "ls"
      ],
      "execution_count": null,
      "outputs": [
        {
          "output_type": "stream",
          "name": "stdout",
          "text": [
            "Pipfile  Pipfile.lock  \u001b[0m\u001b[01;34msample_data\u001b[0m/\n"
          ]
        }
      ]
    },
    {
      "cell_type": "code",
      "metadata": {
        "colab": {
          "base_uri": "https://localhost:8080/"
        },
        "id": "DUB67_A0n2fj",
        "outputId": "0982a357-72d1-4ca9-8513-98b7e2b53440"
      },
      "source": [
        "cat Pipfile"
      ],
      "execution_count": 8,
      "outputs": [
        {
          "output_type": "stream",
          "name": "stdout",
          "text": [
            "[[source]]\n",
            "url = \"https://pypi.org/simple\"\n",
            "verify_ssl = true\n",
            "name = \"pypi\"\n",
            "\n",
            "[packages]\n",
            "scikit-learn = \"==v1.0\"\n",
            "flask = \"*\"\n",
            "\n",
            "[dev-packages]\n",
            "\n",
            "[requires]\n",
            "python_version = \"3.7\"\n"
          ]
        }
      ]
    },
    {
      "cell_type": "code",
      "metadata": {
        "id": "9gRCmusin4eX",
        "colab": {
          "base_uri": "https://localhost:8080/"
        },
        "outputId": "c587f885-d1ae-4929-ace6-7fa7fab41988"
      },
      "source": [
        "ls"
      ],
      "execution_count": 9,
      "outputs": [
        {
          "output_type": "stream",
          "name": "stdout",
          "text": [
            "Pipfile  Pipfile.lock  \u001b[0m\u001b[01;34msample_data\u001b[0m/\n"
          ]
        }
      ]
    },
    {
      "cell_type": "code",
      "metadata": {
        "colab": {
          "base_uri": "https://localhost:8080/"
        },
        "id": "XRD9wkE-ozp9",
        "outputId": "a3c16206-2952-450e-8191-3f8a16da009a"
      },
      "source": [
        "cat Pipfile.lock"
      ],
      "execution_count": 11,
      "outputs": [
        {
          "output_type": "stream",
          "name": "stdout",
          "text": [
            "{\n",
            "    \"_meta\": {\n",
            "        \"hash\": {\n",
            "            \"sha256\": \"5c65c76fcb79d53f7570430f67982be085cb23e5af1dfacb74ca5b809ebfb61f\"\n",
            "        },\n",
            "        \"pipfile-spec\": 6,\n",
            "        \"requires\": {\n",
            "            \"python_version\": \"3.7\"\n",
            "        },\n",
            "        \"sources\": [\n",
            "            {\n",
            "                \"name\": \"pypi\",\n",
            "                \"url\": \"https://pypi.org/simple\",\n",
            "                \"verify_ssl\": true\n",
            "            }\n",
            "        ]\n",
            "    },\n",
            "    \"default\": {\n",
            "        \"click\": {\n",
            "            \"hashes\": [\n",
            "                \"sha256:353f466495adaeb40b6b5f592f9f91cb22372351c84caeb068132442a4518ef3\",\n",
            "                \"sha256:410e932b050f5eed773c4cda94de75971c89cdb3155a72a0831139a79e5ecb5b\"\n",
            "            ],\n",
            "            \"markers\": \"python_version >= '3.6'\",\n",
            "            \"version\": \"==8.0.3\"\n",
            "        },\n",
            "        \"flask\": {\n",
            "            \"hashes\": [\n",
            "                \"sha256:7b2fb8e934ddd50731893bdcdb00fc8c0315916f9fcd50d22c7cc1a95ab634e2\",\n",
            "                \"sha256:cb90f62f1d8e4dc4621f52106613488b5ba826b2e1e10a33eac92f723093ab6a\"\n",
            "            ],\n",
            "            \"index\": \"pypi\",\n",
            "            \"version\": \"==2.0.2\"\n",
            "        },\n",
            "        \"importlib-metadata\": {\n",
            "            \"hashes\": [\n",
            "                \"sha256:b618b6d2d5ffa2f16add5697cf57a46c76a56229b0ed1c438322e4e95645bd15\",\n",
            "                \"sha256:f284b3e11256ad1e5d03ab86bb2ccd6f5339688ff17a4d797a0fe7df326f23b1\"\n",
            "            ],\n",
            "            \"markers\": \"python_version < '3.8'\",\n",
            "            \"version\": \"==4.8.1\"\n",
            "        },\n",
            "        \"itsdangerous\": {\n",
            "            \"hashes\": [\n",
            "                \"sha256:5174094b9637652bdb841a3029700391451bd092ba3db90600dea710ba28e97c\",\n",
            "                \"sha256:9e724d68fc22902a1435351f84c3fb8623f303fffcc566a4cb952df8c572cff0\"\n",
            "            ],\n",
            "            \"markers\": \"python_version >= '3.6'\",\n",
            "            \"version\": \"==2.0.1\"\n",
            "        },\n",
            "        \"jinja2\": {\n",
            "            \"hashes\": [\n",
            "                \"sha256:827a0e32839ab1600d4eb1c4c33ec5a8edfbc5cb42dafa13b81f182f97784b45\",\n",
            "                \"sha256:8569982d3f0889eed11dd620c706d39b60c36d6d25843961f33f77fb6bc6b20c\"\n",
            "            ],\n",
            "            \"markers\": \"python_version >= '3.6'\",\n",
            "            \"version\": \"==3.0.2\"\n",
            "        },\n",
            "        \"joblib\": {\n",
            "            \"hashes\": [\n",
            "                \"sha256:4158fcecd13733f8be669be0683b96ebdbbd38d23559f54dca7205aea1bf1e35\",\n",
            "                \"sha256:f21f109b3c7ff9d95f8387f752d0d9c34a02aa2f7060c2135f465da0e5160ff6\"\n",
            "            ],\n",
            "            \"markers\": \"python_version >= '3.6'\",\n",
            "            \"version\": \"==1.1.0\"\n",
            "        },\n",
            "        \"markupsafe\": {\n",
            "            \"hashes\": [\n",
            "                \"sha256:01a9b8ea66f1658938f65b93a85ebe8bc016e6769611be228d797c9d998dd298\",\n",
            "                \"sha256:023cb26ec21ece8dc3907c0e8320058b2e0cb3c55cf9564da612bc325bed5e64\",\n",
            "                \"sha256:0446679737af14f45767963a1a9ef7620189912317d095f2d9ffa183a4d25d2b\",\n",
            "                \"sha256:0717a7390a68be14b8c793ba258e075c6f4ca819f15edfc2a3a027c823718567\",\n",
            "                \"sha256:0955295dd5eec6cb6cc2fe1698f4c6d84af2e92de33fbcac4111913cd100a6ff\",\n",
            "                \"sha256:0d4b31cc67ab36e3392bbf3862cfbadac3db12bdd8b02a2731f509ed5b829724\",\n",
            "                \"sha256:10f82115e21dc0dfec9ab5c0223652f7197feb168c940f3ef61563fc2d6beb74\",\n",
            "                \"sha256:168cd0a3642de83558a5153c8bd34f175a9a6e7f6dc6384b9655d2697312a646\",\n",
            "                \"sha256:1d609f577dc6e1aa17d746f8bd3c31aa4d258f4070d61b2aa5c4166c1539de35\",\n",
            "                \"sha256:1f2ade76b9903f39aa442b4aadd2177decb66525062db244b35d71d0ee8599b6\",\n",
            "                \"sha256:2a7d351cbd8cfeb19ca00de495e224dea7e7d919659c2841bbb7f420ad03e2d6\",\n",
            "                \"sha256:2d7d807855b419fc2ed3e631034685db6079889a1f01d5d9dac950f764da3dad\",\n",
            "                \"sha256:2ef54abee730b502252bcdf31b10dacb0a416229b72c18b19e24a4509f273d26\",\n",
            "                \"sha256:36bc903cbb393720fad60fc28c10de6acf10dc6cc883f3e24ee4012371399a38\",\n",
            "                \"sha256:37205cac2a79194e3750b0af2a5720d95f786a55ce7df90c3af697bfa100eaac\",\n",
            "                \"sha256:3c112550557578c26af18a1ccc9e090bfe03832ae994343cfdacd287db6a6ae7\",\n",
            "                \"sha256:3dd007d54ee88b46be476e293f48c85048603f5f516008bee124ddd891398ed6\",\n",
            "                \"sha256:47ab1e7b91c098ab893b828deafa1203de86d0bc6ab587b160f78fe6c4011f75\",\n",
            "                \"sha256:49e3ceeabbfb9d66c3aef5af3a60cc43b85c33df25ce03d0031a608b0a8b2e3f\",\n",
            "                \"sha256:4efca8f86c54b22348a5467704e3fec767b2db12fc39c6d963168ab1d3fc9135\",\n",
            "                \"sha256:53edb4da6925ad13c07b6d26c2a852bd81e364f95301c66e930ab2aef5b5ddd8\",\n",
            "                \"sha256:5855f8438a7d1d458206a2466bf82b0f104a3724bf96a1c781ab731e4201731a\",\n",
            "                \"sha256:594c67807fb16238b30c44bdf74f36c02cdf22d1c8cda91ef8a0ed8dabf5620a\",\n",
            "                \"sha256:5bb28c636d87e840583ee3adeb78172efc47c8b26127267f54a9c0ec251d41a9\",\n",
            "                \"sha256:60bf42e36abfaf9aff1f50f52644b336d4f0a3fd6d8a60ca0d054ac9f713a864\",\n",
            "                \"sha256:611d1ad9a4288cf3e3c16014564df047fe08410e628f89805e475368bd304914\",\n",
            "                \"sha256:6557b31b5e2c9ddf0de32a691f2312a32f77cd7681d8af66c2692efdbef84c18\",\n",
            "                \"sha256:693ce3f9e70a6cf7d2fb9e6c9d8b204b6b39897a2c4a1aa65728d5ac97dcc1d8\",\n",
            "                \"sha256:6a7fae0dd14cf60ad5ff42baa2e95727c3d81ded453457771d02b7d2b3f9c0c2\",\n",
            "                \"sha256:6c4ca60fa24e85fe25b912b01e62cb969d69a23a5d5867682dd3e80b5b02581d\",\n",
            "                \"sha256:6fcf051089389abe060c9cd7caa212c707e58153afa2c649f00346ce6d260f1b\",\n",
            "                \"sha256:7d91275b0245b1da4d4cfa07e0faedd5b0812efc15b702576d103293e252af1b\",\n",
            "                \"sha256:905fec760bd2fa1388bb5b489ee8ee5f7291d692638ea5f67982d968366bef9f\",\n",
            "                \"sha256:97383d78eb34da7e1fa37dd273c20ad4320929af65d156e35a5e2d89566d9dfb\",\n",
            "                \"sha256:984d76483eb32f1bcb536dc27e4ad56bba4baa70be32fa87152832cdd9db0833\",\n",
            "                \"sha256:99df47edb6bda1249d3e80fdabb1dab8c08ef3975f69aed437cb69d0a5de1e28\",\n",
            "                \"sha256:a30e67a65b53ea0a5e62fe23682cfe22712e01f453b95233b25502f7c61cb415\",\n",
            "                \"sha256:ab3ef638ace319fa26553db0624c4699e31a28bb2a835c5faca8f8acf6a5a902\",\n",
            "                \"sha256:add36cb2dbb8b736611303cd3bfcee00afd96471b09cda130da3581cbdc56a6d\",\n",
            "                \"sha256:b2f4bf27480f5e5e8ce285a8c8fd176c0b03e93dcc6646477d4630e83440c6a9\",\n",
            "                \"sha256:b7f2d075102dc8c794cbde1947378051c4e5180d52d276987b8d28a3bd58c17d\",\n",
            "                \"sha256:baa1a4e8f868845af802979fcdbf0bb11f94f1cb7ced4c4b8a351bb60d108145\",\n",
            "                \"sha256:be98f628055368795d818ebf93da628541e10b75b41c559fdf36d104c5787066\",\n",
            "                \"sha256:bf5d821ffabf0ef3533c39c518f3357b171a1651c1ff6827325e4489b0e46c3c\",\n",
            "                \"sha256:c47adbc92fc1bb2b3274c4b3a43ae0e4573d9fbff4f54cd484555edbf030baf1\",\n",
            "                \"sha256:d7f9850398e85aba693bb640262d3611788b1f29a79f0c93c565694658f4071f\",\n",
            "                \"sha256:d8446c54dc28c01e5a2dbac5a25f071f6653e6e40f3a8818e8b45d790fe6ef53\",\n",
            "                \"sha256:e0f138900af21926a02425cf736db95be9f4af72ba1bb21453432a07f6082134\",\n",
            "                \"sha256:e9936f0b261d4df76ad22f8fee3ae83b60d7c3e871292cd42f40b81b70afae85\",\n",
            "                \"sha256:f5653a225f31e113b152e56f154ccbe59eeb1c7487b39b9d9f9cdb58e6c79dc5\",\n",
            "                \"sha256:f826e31d18b516f653fe296d967d700fddad5901ae07c622bb3705955e1faa94\",\n",
            "                \"sha256:f8ba0e8349a38d3001fae7eadded3f6606f0da5d748ee53cc1dab1d6527b9509\",\n",
            "                \"sha256:f9081981fe268bd86831e5c75f7de206ef275defcb82bc70740ae6dc507aee51\",\n",
            "                \"sha256:fa130dd50c57d53368c9d59395cb5526eda596d3ffe36666cd81a44d56e48872\"\n",
            "            ],\n",
            "            \"markers\": \"python_version >= '3.6'\",\n",
            "            \"version\": \"==2.0.1\"\n",
            "        },\n",
            "        \"numpy\": {\n",
            "            \"hashes\": [\n",
            "                \"sha256:09858463db6dd9f78b2a1a05c93f3b33d4f65975771e90d2cf7aadb7c2f66edf\",\n",
            "                \"sha256:209666ce9d4a817e8a4597cd475b71b4878a85fa4b8db41d79fdb4fdee01dde2\",\n",
            "                \"sha256:298156f4d3d46815eaf0fcf0a03f9625fc7631692bd1ad851517ab93c3168fc6\",\n",
            "                \"sha256:30fc68307c0155d2a75ad19844224be0f2c6f06572d958db4e2053f816b859ad\",\n",
            "                \"sha256:423216d8afc5923b15df86037c6053bf030d15cc9e3224206ef868c2d63dd6dc\",\n",
            "                \"sha256:426a00b68b0d21f2deb2ace3c6d677e611ad5a612d2c76494e24a562a930c254\",\n",
            "                \"sha256:466e682264b14982012887e90346d33435c984b7fead7b85e634903795c8fdb0\",\n",
            "                \"sha256:51a7b9db0a2941434cd930dacaafe0fc9da8f3d6157f9d12f761bbde93f46218\",\n",
            "                \"sha256:52a664323273c08f3b473548bf87c8145b7513afd63e4ebba8496ecd3853df13\",\n",
            "                \"sha256:550564024dc5ceee9421a86fc0fb378aa9d222d4d0f858f6669eff7410c89bef\",\n",
            "                \"sha256:5de64950137f3a50b76ce93556db392e8f1f954c2d8207f78a92d1f79aa9f737\",\n",
            "                \"sha256:640c1ccfd56724f2955c237b6ccce2e5b8607c3bc1cc51d3933b8c48d1da3723\",\n",
            "                \"sha256:7fdc7689daf3b845934d67cb221ba8d250fdca20ac0334fea32f7091b93f00d3\",\n",
            "                \"sha256:805459ad8baaf815883d0d6f86e45b3b0b67d823a8f3fa39b1ed9c45eaf5edf1\",\n",
            "                \"sha256:92a0ab128b07799dd5b9077a9af075a63467d03ebac6f8a93e6440abfea4120d\",\n",
            "                \"sha256:9f2dc79c093f6c5113718d3d90c283f11463d77daa4e83aeeac088ec6a0bda52\",\n",
            "                \"sha256:a5109345f5ce7ddb3840f5970de71c34a0ff7fceb133c9441283bb8250f532a3\",\n",
            "                \"sha256:a55e4d81c4260386f71d22294795c87609164e22b28ba0d435850fbdf82fc0c5\",\n",
            "                \"sha256:a9da45b748caad72ea4a4ed57e9cd382089f33c5ec330a804eb420a496fa760f\",\n",
            "                \"sha256:b160b9a99ecc6559d9e6d461b95c8eec21461b332f80267ad2c10394b9503496\",\n",
            "                \"sha256:b342064e647d099ca765f19672696ad50c953cac95b566af1492fd142283580f\",\n",
            "                \"sha256:b5e8590b9245803c849e09bae070a8e1ff444f45e3f0bed558dd722119eea724\",\n",
            "                \"sha256:bf75d5825ef47aa51d669b03ce635ecb84d69311e05eccea083f31c7570c9931\",\n",
            "                \"sha256:c01b59b33c7c3ba90744f2c695be571a3bd40ab2ba7f3d169ffa6db3cfba614f\",\n",
            "                \"sha256:d96a6a7d74af56feb11e9a443150216578ea07b7450f7c05df40eec90af7f4a7\",\n",
            "                \"sha256:dd0e3651d210068d13e18503d75aaa45656eef51ef0b261f891788589db2cc38\",\n",
            "                \"sha256:e167b9805de54367dcb2043519382be541117503ce99e3291cc9b41ca0a83557\",\n",
            "                \"sha256:e42029e184008a5fd3d819323345e25e2337b0ac7f5c135b7623308530209d57\",\n",
            "                \"sha256:f545c082eeb09ae678dd451a1b1dbf17babd8a0d7adea02897a76e639afca310\",\n",
            "                \"sha256:fde50062d67d805bc96f1a9ecc0d37bfc2a8f02b937d2c50824d186aa91f2419\"\n",
            "            ],\n",
            "            \"markers\": \"python_version < '3.11' and python_version >= '3.7'\",\n",
            "            \"version\": \"==1.21.2\"\n",
            "        },\n",
            "        \"scikit-learn\": {\n",
            "            \"hashes\": [\n",
            "                \"sha256:121f78d6564000dc5e968394f45aac87981fcaaf2be40cfcd8f07b2baa1e1829\",\n",
            "                \"sha256:14bd46639b2149b3ed613adc095511313a0db62ba9fa31117bdcb5c23722e93b\",\n",
            "                \"sha256:190c178028f9073d9f61cd30a19c685993236b9b2df884f16608cbb3ff03800b\",\n",
            "                \"sha256:29559c207616604bbaa664bf98eed81b32d9f3d4c975065a206a5e2b268fe784\",\n",
            "                \"sha256:4cb5ccb2b63c617ead48c6d92001273ad1b0e8e2bd4a4857edb58749a88b6d82\",\n",
            "                \"sha256:555f4b4c10d3bef9e3cda63c3b45670a091fb50328fccd54948cd8a7cf887198\",\n",
            "                \"sha256:56ab58978c7aa181856a42f8f491be953b755105040aeb070ebd6b180896f146\",\n",
            "                \"sha256:663a6aaad92e5690b03d931f849016c9718beaa654e9a15f08bfcac750241036\",\n",
            "                \"sha256:6a056637f7f9876e4c9db9b5434d340e0c97e25f00c4c04458f0ff906e82488e\",\n",
            "                \"sha256:6d8bdacde73f5f484325179f466ce2011f79360e9a152100179c3dafb88f2a35\",\n",
            "                \"sha256:776800194e757cd212b47cd05907e0eb67a554ad333fe76776060dbb729e3427\",\n",
            "                \"sha256:83ab0d0447b8de8450c554952a8399791544605caf274fc3c904e247e1584ced\",\n",
            "                \"sha256:9d8caf7fa58791b6b26e912e44d5056818b7bb3142bfa7806f54bde47c189078\",\n",
            "                \"sha256:9f103cd6d7e15fa537a844c1a85c9beeeee8ec38357287c9efd3ee4bb8354e1d\",\n",
            "                \"sha256:af94b89a8f7759603c696b320e86e57f4b2bb4911e02bf2bae33c714ac498fb8\",\n",
            "                \"sha256:b1df4d1151dd6d945324583125e6449bb74ec7cd91ffd7f850015cdb75f151b5\",\n",
            "                \"sha256:b9f10b85dcd9ce80f738e33f55a32b3a538b47409dc1a59eec30b46ea96759db\",\n",
            "                \"sha256:c1f710bba72925aa96e60828df5d2a4872f5d4a4ad7bb4a4c9a6a41c9ce9a198\",\n",
            "                \"sha256:c9c329ec195cdea6a4dee3cebdb1602f4e0f69351c63bc58a4812f3c8a9f4f2d\",\n",
            "                \"sha256:e35135657b7103a70298cf557e4fad06af97607cb0780d8f44a2f91ca7769458\",\n",
            "                \"sha256:e8a6074f7d505bbfd30bcc1c57dc7cb150cc9c021459c2e2729854be1aefb5f7\",\n",
            "                \"sha256:eed33b7ca2bf3fdd585339db42838ab0b641952e064564bff6e9a10573ea665c\",\n",
            "                \"sha256:efeac34d0ce6bf9404d268545867cbde9d6ecadd0e9bd7e6b468e5f4e2349875\",\n",
            "                \"sha256:f7053801ceb7c51ce674c6a8e37a18fcc221c292f66ef7da84744ecf13b4a0c0\",\n",
            "                \"sha256:f8aecb3edc443e5625725ae1ef8f500fa78ce7cb0e864115864bb9f234d18290\"\n",
            "            ],\n",
            "            \"index\": \"pypi\",\n",
            "            \"version\": \"==v1.0\"\n",
            "        },\n",
            "        \"scipy\": {\n",
            "            \"hashes\": [\n",
            "                \"sha256:2a0eeaab01258e0870c4022a6cd329aef3b7c6c2b606bd7cf7bb2ba9820ae561\",\n",
            "                \"sha256:3304bd5bc32e00954ac4b3f4cc382ca8824719bf348aacbec6347337d6b125fe\",\n",
            "                \"sha256:3f52470e0548cdb74fb8ddf06773ffdcca7c97550f903b1c51312ec19243a7f7\",\n",
            "                \"sha256:4729b41a4cdaf4cd011aeac816b532f990bdf97710cef59149d3e293115cf467\",\n",
            "                \"sha256:4ee952f39a4a4c7ba775a32b664b1f4b74818548b65f765987adc14bb78f5802\",\n",
            "                \"sha256:611f9cb459d0707dd8e4de0c96f86e93f61aac7475fcb225e9ec71fecdc5cebf\",\n",
            "                \"sha256:6b47d5fa7ea651054362561a28b1ccc8da9368a39514c1bbf6c0977a1c376764\",\n",
            "                \"sha256:71cfc96297617eab911e22216e8a8597703202e95636d9406df9af5c2ac99a2b\",\n",
            "                \"sha256:787749110a23502031fb1643c55a2236c99c6b989cca703ea2114d65e21728ef\",\n",
            "                \"sha256:90c07ba5f34f33299a428b0d4fa24c30d2ceba44d63f8385b2b05be460819fcb\",\n",
            "                \"sha256:a496b42dbcd04ea9924f5e92be63af3d8e0f43a274b769bfaca0a297327d54ee\",\n",
            "                \"sha256:bc61e3e5ff92d2f32bb263621d54a9cff5e3f7c420af3d1fa122ce2529de2bd9\",\n",
            "                \"sha256:c9951e3746b68974125e5e3445008a4163dd6d20ae0bbdae22b38cb8951dc11b\",\n",
            "                \"sha256:d1388fbac9dd591ea630da75c455f4cc637a7ca5ecb31a6b6cef430914749cde\",\n",
            "                \"sha256:d13f31457f2216e5705304d9f28e2826edf75487410a57aa99263fa4ffd792c2\",\n",
            "                \"sha256:d648aa85dd5074b1ed83008ae987c3fbb53d68af619fce1dee231f4d8bd40e2f\",\n",
            "                \"sha256:da9c6b336e540def0b7fd65603da8abeb306c5fc9a5f4238665cbbb5ff95cf58\",\n",
            "                \"sha256:e101bceeb9e65a90dadbc5ca31283403a2d4667b9c178db29109750568e8d112\",\n",
            "                \"sha256:efdd3825d54c58df2cc394366ca4b9166cf940a0ebddeb87b6c10053deb625ea\"\n",
            "            ],\n",
            "            \"markers\": \"python_version < '3.10' and python_version >= '3.7'\",\n",
            "            \"version\": \"==1.7.1\"\n",
            "        },\n",
            "        \"threadpoolctl\": {\n",
            "            \"hashes\": [\n",
            "                \"sha256:4fade5b3b48ae4b1c30f200b28f39180371104fccc642e039e0f2435ec8cc211\",\n",
            "                \"sha256:d03115321233d0be715f0d3a5ad1d6c065fe425ddc2d671ca8e45e9fd5d7a52a\"\n",
            "            ],\n",
            "            \"markers\": \"python_version >= '3.6'\",\n",
            "            \"version\": \"==3.0.0\"\n",
            "        },\n",
            "        \"typing-extensions\": {\n",
            "            \"hashes\": [\n",
            "                \"sha256:49f75d16ff11f1cd258e1b988ccff82a3ca5570217d7ad8c5f48205dd99a677e\",\n",
            "                \"sha256:d8226d10bc02a29bcc81df19a26e56a9647f8b0a6d4a83924139f4a8b01f17b7\",\n",
            "                \"sha256:f1d25edafde516b146ecd0613dabcc61409817af4766fbbcfb8d1ad4ec441a34\"\n",
            "            ],\n",
            "            \"markers\": \"python_version < '3.8'\",\n",
            "            \"version\": \"==3.10.0.2\"\n",
            "        },\n",
            "        \"werkzeug\": {\n",
            "            \"hashes\": [\n",
            "                \"sha256:63d3dc1cf60e7b7e35e97fa9861f7397283b75d765afcaefd993d6046899de8f\",\n",
            "                \"sha256:aa2bb6fc8dee8d6c504c0ac1e7f5f7dc5810a9903e793b6f715a9f015bdadb9a\"\n",
            "            ],\n",
            "            \"markers\": \"python_version >= '3.6'\",\n",
            "            \"version\": \"==2.0.2\"\n",
            "        },\n",
            "        \"zipp\": {\n",
            "            \"hashes\": [\n",
            "                \"sha256:71c644c5369f4a6e07636f0aa966270449561fcea2e3d6747b8d23efaa9d7832\",\n",
            "                \"sha256:9fe5ea21568a0a70e50f273397638d39b03353731e6cbbb3fd8502a33fec40bc\"\n",
            "            ],\n",
            "            \"markers\": \"python_version >= '3.6'\",\n",
            "            \"version\": \"==3.6.0\"\n",
            "        }\n",
            "    },\n",
            "    \"develop\": {}\n",
            "}\n"
          ]
        }
      ]
    },
    {
      "cell_type": "code",
      "metadata": {
        "colab": {
          "base_uri": "https://localhost:8080/"
        },
        "id": "lHlyIKO4o5WA",
        "outputId": "c93a2538-d850-41d3-f897-3e6f5964e41e"
      },
      "source": [
        "!python --version"
      ],
      "execution_count": 13,
      "outputs": [
        {
          "output_type": "stream",
          "name": "stdout",
          "text": [
            "Python 3.7.12\n"
          ]
        }
      ]
    },
    {
      "cell_type": "code",
      "metadata": {
        "colab": {
          "base_uri": "https://localhost:8080/"
        },
        "id": "FX5gk-Djo1xF",
        "outputId": "ccee07b3-3137-4d8a-cd74-38f58e4d2ba7"
      },
      "source": [
        "PREFIX= \"https://raw.githubusercontent.com/alexeygrigorev/mlbookcamp-code/master/course-zoomcamp/05-deployment/homework\"\n",
        "!wget $PREFIX/model1.bin\n",
        "!wget $PREFIX/dv.bin"
      ],
      "execution_count": 16,
      "outputs": [
        {
          "output_type": "stream",
          "name": "stdout",
          "text": [
            "--2021-10-11 13:59:57--  https://raw.githubusercontent.com/alexeygrigorev/mlbookcamp-code/master/course-zoomcamp/05-deployment/homework/model1.bin\n",
            "Resolving raw.githubusercontent.com (raw.githubusercontent.com)... 185.199.108.133, 185.199.109.133, 185.199.110.133, ...\n",
            "Connecting to raw.githubusercontent.com (raw.githubusercontent.com)|185.199.108.133|:443... connected.\n",
            "HTTP request sent, awaiting response... 200 OK\n",
            "Length: 746 [application/octet-stream]\n",
            "Saving to: ‘model1.bin’\n",
            "\n",
            "\rmodel1.bin            0%[                    ]       0  --.-KB/s               \rmodel1.bin          100%[===================>]     746  --.-KB/s    in 0s      \n",
            "\n",
            "2021-10-11 13:59:57 (23.6 MB/s) - ‘model1.bin’ saved [746/746]\n",
            "\n",
            "--2021-10-11 13:59:57--  https://raw.githubusercontent.com/alexeygrigorev/mlbookcamp-code/master/course-zoomcamp/05-deployment/homework/dv.bin\n",
            "Resolving raw.githubusercontent.com (raw.githubusercontent.com)... 185.199.108.133, 185.199.109.133, 185.199.110.133, ...\n",
            "Connecting to raw.githubusercontent.com (raw.githubusercontent.com)|185.199.108.133|:443... connected.\n",
            "HTTP request sent, awaiting response... 200 OK\n",
            "Length: 323 [application/octet-stream]\n",
            "Saving to: ‘dv.bin’\n",
            "\n",
            "dv.bin              100%[===================>]     323  --.-KB/s    in 0s      \n",
            "\n",
            "2021-10-11 13:59:57 (11.1 MB/s) - ‘dv.bin’ saved [323/323]\n",
            "\n"
          ]
        }
      ]
    },
    {
      "cell_type": "code",
      "metadata": {
        "id": "cQLhc8vGpuFn"
      },
      "source": [
        "import pickle"
      ],
      "execution_count": 17,
      "outputs": []
    },
    {
      "cell_type": "code",
      "metadata": {
        "colab": {
          "base_uri": "https://localhost:8080/"
        },
        "id": "I-yz59hWqd_q",
        "outputId": "9b6e58fb-004c-409f-9d1c-ddbdd04940f6"
      },
      "source": [
        "with open('model1.bin', 'rb') as f_in:\n",
        "  model = pickle.load(f_in)\n",
        "\n",
        "with open('dv.bin', 'rb') as dv_in:\n",
        "  dv = pickle.load(dv_in)"
      ],
      "execution_count": 18,
      "outputs": [
        {
          "output_type": "stream",
          "name": "stderr",
          "text": [
            "/usr/local/lib/python3.7/dist-packages/sklearn/base.py:318: UserWarning: Trying to unpickle estimator LogisticRegression from version 1.0 when using version 0.22.2.post1. This might lead to breaking code or invalid results. Use at your own risk.\n",
            "  UserWarning)\n",
            "/usr/local/lib/python3.7/dist-packages/sklearn/base.py:318: UserWarning: Trying to unpickle estimator DictVectorizer from version 1.0 when using version 0.22.2.post1. This might lead to breaking code or invalid results. Use at your own risk.\n",
            "  UserWarning)\n"
          ]
        }
      ]
    },
    {
      "cell_type": "code",
      "metadata": {
        "colab": {
          "base_uri": "https://localhost:8080/"
        },
        "id": "nYNFsSe8rF1E",
        "outputId": "14173665-621f-4b5d-f00a-ef2847dae28f"
      },
      "source": [
        "inp = {\"contract\": \"two_year\", \"tenure\": 12, \"monthlycharges\": 19.7}\n",
        "#important : dv expects list of dictionaries\n",
        "inp = dv.transform([inp])\n",
        "inp"
      ],
      "execution_count": 23,
      "outputs": [
        {
          "output_type": "execute_result",
          "data": {
            "text/plain": [
              "array([[ 0. ,  0. ,  1. , 19.7, 12. ]])"
            ]
          },
          "metadata": {},
          "execution_count": 23
        }
      ]
    },
    {
      "cell_type": "code",
      "metadata": {
        "colab": {
          "base_uri": "https://localhost:8080/"
        },
        "id": "t9uiguWVp_L3",
        "outputId": "df79e32f-41c6-4824-fe46-2e29108f0323"
      },
      "source": [
        "round(model.predict_proba(inp)[0,1], 3)"
      ],
      "execution_count": 30,
      "outputs": [
        {
          "output_type": "execute_result",
          "data": {
            "text/plain": [
              "0.115"
            ]
          },
          "metadata": {},
          "execution_count": 30
        }
      ]
    },
    {
      "cell_type": "code",
      "metadata": {
        "id": "YEgYY9A8r0ZO"
      },
      "source": [
        ""
      ],
      "execution_count": null,
      "outputs": []
    }
  ]
}